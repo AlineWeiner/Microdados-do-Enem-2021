{
 "cells": [
  {
   "cell_type": "markdown",
   "id": "ce5fa5f3",
   "metadata": {},
   "source": [
    "## Análise dos Microdados do ENEM"
   ]
  },
  {
   "cell_type": "code",
   "execution_count": 1,
   "id": "a369c0ab",
   "metadata": {},
   "outputs": [],
   "source": [
    "import matplotlib.pyplot as plt\n",
    "import pandas as pd"
   ]
  },
  {
   "cell_type": "code",
   "execution_count": 2,
   "id": "3c2c19d4",
   "metadata": {},
   "outputs": [],
   "source": [
    "microdadosEnem = pd.read_csv(\"MICRODADOS_ENEM_2021.csv\", sep=\";\", encoding=\"ISO-8859-1\")"
   ]
  },
  {
   "cell_type": "code",
   "execution_count": 3,
   "id": "4674fd54",
   "metadata": {},
   "outputs": [
    {
     "data": {
      "text/html": [
       "<div>\n",
       "<style scoped>\n",
       "    .dataframe tbody tr th:only-of-type {\n",
       "        vertical-align: middle;\n",
       "    }\n",
       "\n",
       "    .dataframe tbody tr th {\n",
       "        vertical-align: top;\n",
       "    }\n",
       "\n",
       "    .dataframe thead th {\n",
       "        text-align: right;\n",
       "    }\n",
       "</style>\n",
       "<table border=\"1\" class=\"dataframe\">\n",
       "  <thead>\n",
       "    <tr style=\"text-align: right;\">\n",
       "      <th></th>\n",
       "      <th>NU_INSCRICAO</th>\n",
       "      <th>NU_ANO</th>\n",
       "      <th>TP_FAIXA_ETARIA</th>\n",
       "      <th>TP_SEXO</th>\n",
       "      <th>TP_ESTADO_CIVIL</th>\n",
       "      <th>TP_COR_RACA</th>\n",
       "      <th>TP_NACIONALIDADE</th>\n",
       "      <th>TP_ST_CONCLUSAO</th>\n",
       "      <th>TP_ANO_CONCLUIU</th>\n",
       "      <th>TP_ESCOLA</th>\n",
       "      <th>...</th>\n",
       "      <th>Q016</th>\n",
       "      <th>Q017</th>\n",
       "      <th>Q018</th>\n",
       "      <th>Q019</th>\n",
       "      <th>Q020</th>\n",
       "      <th>Q021</th>\n",
       "      <th>Q022</th>\n",
       "      <th>Q023</th>\n",
       "      <th>Q024</th>\n",
       "      <th>Q025</th>\n",
       "    </tr>\n",
       "  </thead>\n",
       "  <tbody>\n",
       "    <tr>\n",
       "      <th>0</th>\n",
       "      <td>210053865474</td>\n",
       "      <td>2021</td>\n",
       "      <td>5</td>\n",
       "      <td>F</td>\n",
       "      <td>1</td>\n",
       "      <td>1</td>\n",
       "      <td>1</td>\n",
       "      <td>1</td>\n",
       "      <td>3</td>\n",
       "      <td>1</td>\n",
       "      <td>...</td>\n",
       "      <td>A</td>\n",
       "      <td>A</td>\n",
       "      <td>A</td>\n",
       "      <td>B</td>\n",
       "      <td>A</td>\n",
       "      <td>A</td>\n",
       "      <td>B</td>\n",
       "      <td>A</td>\n",
       "      <td>B</td>\n",
       "      <td>B</td>\n",
       "    </tr>\n",
       "    <tr>\n",
       "      <th>1</th>\n",
       "      <td>210052384164</td>\n",
       "      <td>2021</td>\n",
       "      <td>12</td>\n",
       "      <td>M</td>\n",
       "      <td>1</td>\n",
       "      <td>1</td>\n",
       "      <td>1</td>\n",
       "      <td>1</td>\n",
       "      <td>11</td>\n",
       "      <td>1</td>\n",
       "      <td>...</td>\n",
       "      <td>A</td>\n",
       "      <td>A</td>\n",
       "      <td>A</td>\n",
       "      <td>B</td>\n",
       "      <td>A</td>\n",
       "      <td>A</td>\n",
       "      <td>C</td>\n",
       "      <td>A</td>\n",
       "      <td>A</td>\n",
       "      <td>A</td>\n",
       "    </tr>\n",
       "    <tr>\n",
       "      <th>2</th>\n",
       "      <td>210052589243</td>\n",
       "      <td>2021</td>\n",
       "      <td>13</td>\n",
       "      <td>F</td>\n",
       "      <td>3</td>\n",
       "      <td>1</td>\n",
       "      <td>1</td>\n",
       "      <td>1</td>\n",
       "      <td>15</td>\n",
       "      <td>1</td>\n",
       "      <td>...</td>\n",
       "      <td>B</td>\n",
       "      <td>A</td>\n",
       "      <td>A</td>\n",
       "      <td>B</td>\n",
       "      <td>A</td>\n",
       "      <td>A</td>\n",
       "      <td>C</td>\n",
       "      <td>B</td>\n",
       "      <td>B</td>\n",
       "      <td>B</td>\n",
       "    </tr>\n",
       "    <tr>\n",
       "      <th>3</th>\n",
       "      <td>210052128335</td>\n",
       "      <td>2021</td>\n",
       "      <td>3</td>\n",
       "      <td>M</td>\n",
       "      <td>1</td>\n",
       "      <td>3</td>\n",
       "      <td>1</td>\n",
       "      <td>2</td>\n",
       "      <td>0</td>\n",
       "      <td>2</td>\n",
       "      <td>...</td>\n",
       "      <td>A</td>\n",
       "      <td>A</td>\n",
       "      <td>A</td>\n",
       "      <td>B</td>\n",
       "      <td>A</td>\n",
       "      <td>A</td>\n",
       "      <td>B</td>\n",
       "      <td>A</td>\n",
       "      <td>B</td>\n",
       "      <td>B</td>\n",
       "    </tr>\n",
       "    <tr>\n",
       "      <th>4</th>\n",
       "      <td>210051353021</td>\n",
       "      <td>2021</td>\n",
       "      <td>2</td>\n",
       "      <td>F</td>\n",
       "      <td>1</td>\n",
       "      <td>3</td>\n",
       "      <td>1</td>\n",
       "      <td>2</td>\n",
       "      <td>0</td>\n",
       "      <td>2</td>\n",
       "      <td>...</td>\n",
       "      <td>B</td>\n",
       "      <td>A</td>\n",
       "      <td>A</td>\n",
       "      <td>B</td>\n",
       "      <td>A</td>\n",
       "      <td>B</td>\n",
       "      <td>E</td>\n",
       "      <td>A</td>\n",
       "      <td>B</td>\n",
       "      <td>B</td>\n",
       "    </tr>\n",
       "  </tbody>\n",
       "</table>\n",
       "<p>5 rows × 76 columns</p>\n",
       "</div>"
      ],
      "text/plain": [
       "   NU_INSCRICAO  NU_ANO  TP_FAIXA_ETARIA TP_SEXO  TP_ESTADO_CIVIL  \\\n",
       "0  210053865474    2021                5       F                1   \n",
       "1  210052384164    2021               12       M                1   \n",
       "2  210052589243    2021               13       F                3   \n",
       "3  210052128335    2021                3       M                1   \n",
       "4  210051353021    2021                2       F                1   \n",
       "\n",
       "   TP_COR_RACA  TP_NACIONALIDADE  TP_ST_CONCLUSAO  TP_ANO_CONCLUIU  TP_ESCOLA  \\\n",
       "0            1                 1                1                3          1   \n",
       "1            1                 1                1               11          1   \n",
       "2            1                 1                1               15          1   \n",
       "3            3                 1                2                0          2   \n",
       "4            3                 1                2                0          2   \n",
       "\n",
       "   ...  Q016  Q017  Q018 Q019  Q020 Q021  Q022  Q023  Q024  Q025  \n",
       "0  ...     A     A     A    B     A    A     B     A     B     B  \n",
       "1  ...     A     A     A    B     A    A     C     A     A     A  \n",
       "2  ...     B     A     A    B     A    A     C     B     B     B  \n",
       "3  ...     A     A     A    B     A    A     B     A     B     B  \n",
       "4  ...     B     A     A    B     A    B     E     A     B     B  \n",
       "\n",
       "[5 rows x 76 columns]"
      ]
     },
     "execution_count": 3,
     "metadata": {},
     "output_type": "execute_result"
    }
   ],
   "source": [
    "microdadosEnem.head()"
   ]
  },
  {
   "cell_type": "code",
   "execution_count": 4,
   "id": "7a8cccbd",
   "metadata": {},
   "outputs": [
    {
     "data": {
      "text/plain": [
       "array(['NU_INSCRICAO', 'NU_ANO', 'TP_FAIXA_ETARIA', 'TP_SEXO',\n",
       "       'TP_ESTADO_CIVIL', 'TP_COR_RACA', 'TP_NACIONALIDADE',\n",
       "       'TP_ST_CONCLUSAO', 'TP_ANO_CONCLUIU', 'TP_ESCOLA', 'TP_ENSINO',\n",
       "       'IN_TREINEIRO', 'CO_MUNICIPIO_ESC', 'NO_MUNICIPIO_ESC',\n",
       "       'CO_UF_ESC', 'SG_UF_ESC', 'TP_DEPENDENCIA_ADM_ESC',\n",
       "       'TP_LOCALIZACAO_ESC', 'TP_SIT_FUNC_ESC', 'CO_MUNICIPIO_PROVA',\n",
       "       'NO_MUNICIPIO_PROVA', 'CO_UF_PROVA', 'SG_UF_PROVA',\n",
       "       'TP_PRESENCA_CN', 'TP_PRESENCA_CH', 'TP_PRESENCA_LC',\n",
       "       'TP_PRESENCA_MT', 'CO_PROVA_CN', 'CO_PROVA_CH', 'CO_PROVA_LC',\n",
       "       'CO_PROVA_MT', 'NU_NOTA_CN', 'NU_NOTA_CH', 'NU_NOTA_LC',\n",
       "       'NU_NOTA_MT', 'TX_RESPOSTAS_CN', 'TX_RESPOSTAS_CH',\n",
       "       'TX_RESPOSTAS_LC', 'TX_RESPOSTAS_MT', 'TP_LINGUA',\n",
       "       'TX_GABARITO_CN', 'TX_GABARITO_CH', 'TX_GABARITO_LC',\n",
       "       'TX_GABARITO_MT', 'TP_STATUS_REDACAO', 'NU_NOTA_COMP1',\n",
       "       'NU_NOTA_COMP2', 'NU_NOTA_COMP3', 'NU_NOTA_COMP4', 'NU_NOTA_COMP5',\n",
       "       'NU_NOTA_REDACAO', 'Q001', 'Q002', 'Q003', 'Q004', 'Q005', 'Q006',\n",
       "       'Q007', 'Q008', 'Q009', 'Q010', 'Q011', 'Q012', 'Q013', 'Q014',\n",
       "       'Q015', 'Q016', 'Q017', 'Q018', 'Q019', 'Q020', 'Q021', 'Q022',\n",
       "       'Q023', 'Q024', 'Q025'], dtype=object)"
      ]
     },
     "execution_count": 4,
     "metadata": {},
     "output_type": "execute_result"
    }
   ],
   "source": [
    "microdadosEnem.columns.values"
   ]
  },
  {
   "cell_type": "code",
   "execution_count": 5,
   "id": "173e1c24",
   "metadata": {},
   "outputs": [],
   "source": [
    "colunas_selecionadas = ['TP_FAIXA_ETARIA', 'TP_SEXO',\n",
    "       'TP_ESTADO_CIVIL', 'TP_COR_RACA', 'TP_NACIONALIDADE',\n",
    "       'TP_ST_CONCLUSAO', 'TP_ANO_CONCLUIU', 'TP_ESCOLA', 'TP_ENSINO',\n",
    "       'IN_TREINEIRO', 'CO_MUNICIPIO_ESC', 'NO_MUNICIPIO_ESC',\n",
    "       'CO_UF_ESC', 'SG_UF_ESC', 'TP_DEPENDENCIA_ADM_ESC',\n",
    "       'TP_LOCALIZACAO_ESC', 'TP_SIT_FUNC_ESC', 'CO_MUNICIPIO_PROVA',\n",
    "       'NO_MUNICIPIO_PROVA']"
   ]
  },
  {
   "cell_type": "code",
   "execution_count": 6,
   "id": "c110c99a",
   "metadata": {},
   "outputs": [],
   "source": [
    "microdadosEnem_selecionadas = microdadosEnem.filter(items=colunas_selecionadas)"
   ]
  },
  {
   "cell_type": "code",
   "execution_count": 7,
   "id": "4cc7d3c4",
   "metadata": {},
   "outputs": [
    {
     "data": {
      "text/html": [
       "<div>\n",
       "<style scoped>\n",
       "    .dataframe tbody tr th:only-of-type {\n",
       "        vertical-align: middle;\n",
       "    }\n",
       "\n",
       "    .dataframe tbody tr th {\n",
       "        vertical-align: top;\n",
       "    }\n",
       "\n",
       "    .dataframe thead th {\n",
       "        text-align: right;\n",
       "    }\n",
       "</style>\n",
       "<table border=\"1\" class=\"dataframe\">\n",
       "  <thead>\n",
       "    <tr style=\"text-align: right;\">\n",
       "      <th></th>\n",
       "      <th>TP_FAIXA_ETARIA</th>\n",
       "      <th>TP_SEXO</th>\n",
       "      <th>TP_ESTADO_CIVIL</th>\n",
       "      <th>TP_COR_RACA</th>\n",
       "      <th>TP_NACIONALIDADE</th>\n",
       "      <th>TP_ST_CONCLUSAO</th>\n",
       "      <th>TP_ANO_CONCLUIU</th>\n",
       "      <th>TP_ESCOLA</th>\n",
       "      <th>TP_ENSINO</th>\n",
       "      <th>IN_TREINEIRO</th>\n",
       "      <th>CO_MUNICIPIO_ESC</th>\n",
       "      <th>NO_MUNICIPIO_ESC</th>\n",
       "      <th>CO_UF_ESC</th>\n",
       "      <th>SG_UF_ESC</th>\n",
       "      <th>TP_DEPENDENCIA_ADM_ESC</th>\n",
       "      <th>TP_LOCALIZACAO_ESC</th>\n",
       "      <th>TP_SIT_FUNC_ESC</th>\n",
       "      <th>CO_MUNICIPIO_PROVA</th>\n",
       "      <th>NO_MUNICIPIO_PROVA</th>\n",
       "    </tr>\n",
       "  </thead>\n",
       "  <tbody>\n",
       "    <tr>\n",
       "      <th>0</th>\n",
       "      <td>5</td>\n",
       "      <td>F</td>\n",
       "      <td>1</td>\n",
       "      <td>1</td>\n",
       "      <td>1</td>\n",
       "      <td>1</td>\n",
       "      <td>3</td>\n",
       "      <td>1</td>\n",
       "      <td>NaN</td>\n",
       "      <td>0</td>\n",
       "      <td>NaN</td>\n",
       "      <td>NaN</td>\n",
       "      <td>NaN</td>\n",
       "      <td>NaN</td>\n",
       "      <td>NaN</td>\n",
       "      <td>NaN</td>\n",
       "      <td>NaN</td>\n",
       "      <td>3144805</td>\n",
       "      <td>Nova Lima</td>\n",
       "    </tr>\n",
       "    <tr>\n",
       "      <th>1</th>\n",
       "      <td>12</td>\n",
       "      <td>M</td>\n",
       "      <td>1</td>\n",
       "      <td>1</td>\n",
       "      <td>1</td>\n",
       "      <td>1</td>\n",
       "      <td>11</td>\n",
       "      <td>1</td>\n",
       "      <td>NaN</td>\n",
       "      <td>0</td>\n",
       "      <td>NaN</td>\n",
       "      <td>NaN</td>\n",
       "      <td>NaN</td>\n",
       "      <td>NaN</td>\n",
       "      <td>NaN</td>\n",
       "      <td>NaN</td>\n",
       "      <td>NaN</td>\n",
       "      <td>2704302</td>\n",
       "      <td>Maceió</td>\n",
       "    </tr>\n",
       "    <tr>\n",
       "      <th>2</th>\n",
       "      <td>13</td>\n",
       "      <td>F</td>\n",
       "      <td>3</td>\n",
       "      <td>1</td>\n",
       "      <td>1</td>\n",
       "      <td>1</td>\n",
       "      <td>15</td>\n",
       "      <td>1</td>\n",
       "      <td>NaN</td>\n",
       "      <td>0</td>\n",
       "      <td>NaN</td>\n",
       "      <td>NaN</td>\n",
       "      <td>NaN</td>\n",
       "      <td>NaN</td>\n",
       "      <td>NaN</td>\n",
       "      <td>NaN</td>\n",
       "      <td>NaN</td>\n",
       "      <td>3515707</td>\n",
       "      <td>Ferraz de Vasconcelos</td>\n",
       "    </tr>\n",
       "    <tr>\n",
       "      <th>3</th>\n",
       "      <td>3</td>\n",
       "      <td>M</td>\n",
       "      <td>1</td>\n",
       "      <td>3</td>\n",
       "      <td>1</td>\n",
       "      <td>2</td>\n",
       "      <td>0</td>\n",
       "      <td>2</td>\n",
       "      <td>1.0</td>\n",
       "      <td>0</td>\n",
       "      <td>2304202.0</td>\n",
       "      <td>Crato</td>\n",
       "      <td>23.0</td>\n",
       "      <td>CE</td>\n",
       "      <td>2.0</td>\n",
       "      <td>1.0</td>\n",
       "      <td>1.0</td>\n",
       "      <td>2304202</td>\n",
       "      <td>Crato</td>\n",
       "    </tr>\n",
       "    <tr>\n",
       "      <th>4</th>\n",
       "      <td>2</td>\n",
       "      <td>F</td>\n",
       "      <td>1</td>\n",
       "      <td>3</td>\n",
       "      <td>1</td>\n",
       "      <td>2</td>\n",
       "      <td>0</td>\n",
       "      <td>2</td>\n",
       "      <td>1.0</td>\n",
       "      <td>0</td>\n",
       "      <td>2311603.0</td>\n",
       "      <td>Redenção</td>\n",
       "      <td>23.0</td>\n",
       "      <td>CE</td>\n",
       "      <td>2.0</td>\n",
       "      <td>1.0</td>\n",
       "      <td>1.0</td>\n",
       "      <td>2300150</td>\n",
       "      <td>Acarape</td>\n",
       "    </tr>\n",
       "  </tbody>\n",
       "</table>\n",
       "</div>"
      ],
      "text/plain": [
       "   TP_FAIXA_ETARIA TP_SEXO  TP_ESTADO_CIVIL  TP_COR_RACA  TP_NACIONALIDADE  \\\n",
       "0                5       F                1            1                 1   \n",
       "1               12       M                1            1                 1   \n",
       "2               13       F                3            1                 1   \n",
       "3                3       M                1            3                 1   \n",
       "4                2       F                1            3                 1   \n",
       "\n",
       "   TP_ST_CONCLUSAO  TP_ANO_CONCLUIU  TP_ESCOLA  TP_ENSINO  IN_TREINEIRO  \\\n",
       "0                1                3          1        NaN             0   \n",
       "1                1               11          1        NaN             0   \n",
       "2                1               15          1        NaN             0   \n",
       "3                2                0          2        1.0             0   \n",
       "4                2                0          2        1.0             0   \n",
       "\n",
       "   CO_MUNICIPIO_ESC NO_MUNICIPIO_ESC  CO_UF_ESC SG_UF_ESC  \\\n",
       "0               NaN              NaN        NaN       NaN   \n",
       "1               NaN              NaN        NaN       NaN   \n",
       "2               NaN              NaN        NaN       NaN   \n",
       "3         2304202.0            Crato       23.0        CE   \n",
       "4         2311603.0         Redenção       23.0        CE   \n",
       "\n",
       "   TP_DEPENDENCIA_ADM_ESC  TP_LOCALIZACAO_ESC  TP_SIT_FUNC_ESC  \\\n",
       "0                     NaN                 NaN              NaN   \n",
       "1                     NaN                 NaN              NaN   \n",
       "2                     NaN                 NaN              NaN   \n",
       "3                     2.0                 1.0              1.0   \n",
       "4                     2.0                 1.0              1.0   \n",
       "\n",
       "   CO_MUNICIPIO_PROVA     NO_MUNICIPIO_PROVA  \n",
       "0             3144805              Nova Lima  \n",
       "1             2704302                 Maceió  \n",
       "2             3515707  Ferraz de Vasconcelos  \n",
       "3             2304202                  Crato  \n",
       "4             2300150                Acarape  "
      ]
     },
     "execution_count": 7,
     "metadata": {},
     "output_type": "execute_result"
    }
   ],
   "source": [
    "microdadosEnem_selecionadas.head()"
   ]
  },
  {
   "cell_type": "code",
   "execution_count": 8,
   "id": "152234ff",
   "metadata": {},
   "outputs": [],
   "source": [
    "coluna_municipio_residencia = microdadosEnem_selecionadas['NO_MUNICIPIO_ESC']"
   ]
  },
  {
   "cell_type": "code",
   "execution_count": 9,
   "id": "e39741f6",
   "metadata": {},
   "outputs": [
    {
     "data": {
      "text/plain": [
       "São Paulo         37692\n",
       "Fortaleza         27767\n",
       "Rio de Janeiro    24163\n",
       "Manaus            17488\n",
       "Brasília          16913\n",
       "Salvador          11382\n",
       "Belo Horizonte    10638\n",
       "Curitiba           9717\n",
       "Goiânia            9577\n",
       "Recife             9411\n",
       "Name: NO_MUNICIPIO_ESC, dtype: int64"
      ]
     },
     "execution_count": 9,
     "metadata": {},
     "output_type": "execute_result"
    }
   ],
   "source": [
    "coluna_municipio_residencia.value_counts().head(10)\n",
    "# Esses são os 10 estados onde residem a maioria dos inscritos do Enem 2021."
   ]
  },
  {
   "cell_type": "code",
   "execution_count": 10,
   "id": "2a456920",
   "metadata": {},
   "outputs": [
    {
     "data": {
      "text/plain": [
       "<AxesSubplot:>"
      ]
     },
     "execution_count": 10,
     "metadata": {},
     "output_type": "execute_result"
    },
    {
     "data": {
      "image/png": "[encoded data removed]",
      "text/plain": [
       "<Figure size 432x288 with 1 Axes>"
      ]
     },
     "metadata": {
      "needs_background": "light"
     },
     "output_type": "display_data"
    }
   ],
   "source": [
    "coluna_municipio_residencia.value_counts().head(10).plot(kind = 'bar')"
   ]
  },
  {
   "cell_type": "code",
   "execution_count": 11,
   "id": "1f2ea5bb",
   "metadata": {},
   "outputs": [],
   "source": [
    "coluna_faixa_etaria = microdadosEnem_selecionadas['TP_FAIXA_ETARIA']"
   ]
  },
  {
   "cell_type": "code",
   "execution_count": 12,
   "id": "0b3434fa",
   "metadata": {},
   "outputs": [],
   "source": [
    "dic_faixa_etaria = {1: 'Menor de 17 anos', 2 : '17 anos', 3: '18 anos', 4: '19 anos', 5: '20 anos', \n",
    "                    6: '21 anos', 7: '22 anos', 8: '23 anos', 9: '24 anos', 10: '25 anos', 11: 'Entre 26 e 30 anos', \n",
    "                    12: 'Entre 31 e 35 anos', 13: 'Entre 36 e 40 anos', 14: 'Entre 41 e 45 anos', \n",
    "                    15: 'Entre 46 e 50 anos', 16: 'Entre 51 e 55 anos', 17: 'Entre 56 e 60 anos', \n",
    "                    18: 'Entre 61 e 65 anos', 19: 'Entre 66 e 70 anos', 20: 'Maior de 70 anos'}"
   ]
  },
  {
   "cell_type": "code",
   "execution_count": 13,
   "id": "559e6781",
   "metadata": {},
   "outputs": [],
   "source": [
    "microdadosEnem_selecionadas['FAIXA_ETARIA'] = [dic_faixa_etaria[opc] for opc in microdadosEnem_selecionadas['TP_FAIXA_ETARIA'].sort_values()]"
   ]
  },
  {
   "cell_type": "code",
   "execution_count": 14,
   "id": "f33d2522",
   "metadata": {},
   "outputs": [
    {
     "data": {
      "image/png": "[encoded data removed]",
      "text/plain": [
       "<Figure size 1440x1080 with 1 Axes>"
      ]
     },
     "metadata": {
      "needs_background": "light"
     },
     "output_type": "display_data"
    }
   ],
   "source": [
    "fig = plt.figure(figsize = (20, 15))\n",
    "eixo = fig.add_axes([0, 0, 1, 1])\n",
    "\n",
    "eixo.hist(microdadosEnem_selecionadas['FAIXA_ETARIA'], bins = 21, orientation = 'horizontal', density = True)\n",
    "eixo.set_title('Histograma Faixa Etária', fontsize = 18, pad = 10)\n",
    "eixo.set_ylabel('Faixa Etária', fontsize = 15)\n",
    "eixo.grid(True)\n",
    "\n",
    "# Podemos verificar que a maioria dos inscritos possuem entre 18 e 19 anos."
   ]
  },
  {
   "cell_type": "code",
   "execution_count": 15,
   "id": "64f77d73",
   "metadata": {},
   "outputs": [],
   "source": [
    "coluna_uf_da_escola = microdadosEnem_selecionadas['SG_UF_ESC']"
   ]
  },
  {
   "cell_type": "code",
   "execution_count": 16,
   "id": "8aca7a58",
   "metadata": {},
   "outputs": [
    {
     "data": {
      "text/plain": [
       "SP    139473\n",
       "CE     93159\n",
       "MG     64236\n",
       "RJ     54639\n",
       "BA     48040\n",
       "GO     44963\n",
       "PR     42365\n",
       "PE     40227\n",
       "RS     35803\n",
       "AM     33394\n",
       "PA     26929\n",
       "SC     26394\n",
       "MA     21140\n",
       "ES     17657\n",
       "PB     17647\n",
       "DF     16913\n",
       "PI     13531\n",
       "RN     12939\n",
       "MT     12703\n",
       "AL     10686\n",
       "MS     10672\n",
       "SE      8480\n",
       "RO      7699\n",
       "TO      6460\n",
       "AC      3008\n",
       "AP      2863\n",
       "RR      1786\n",
       "Name: SG_UF_ESC, dtype: int64"
      ]
     },
     "execution_count": 16,
     "metadata": {},
     "output_type": "execute_result"
    }
   ],
   "source": [
    "uf_das_escolas = coluna_uf_da_escola.value_counts()\n",
    "uf_das_escolas"
   ]
  },
  {
   "cell_type": "code",
   "execution_count": 17,
   "id": "cdc5dddb",
   "metadata": {},
   "outputs": [
    {
     "data": {
      "text/plain": [
       "Text(0, 0.5, 'Quantidade dos inscritos por UF')"
      ]
     },
     "execution_count": 17,
     "metadata": {},
     "output_type": "execute_result"
    },
    {
     "data": {
      "image/png": "[encoded data removed]",
      "text/plain": [
       "<Figure size 1440x576 with 1 Axes>"
      ]
     },
     "metadata": {
      "needs_background": "light"
     },
     "output_type": "display_data"
    }
   ],
   "source": [
    "fig = plt.figure(figsize = (20, 8))\n",
    "eixo = fig.add_axes([0, 0, 1, 1])\n",
    "\n",
    "eixo.bar(uf_das_escolas.index, uf_das_escolas.values, color = 'red')\n",
    "eixo.set_title('Unidade da Federação das escolas dos inscritos', fontsize = 18, pad = 10)\n",
    "eixo.set_ylabel('Quantidade dos inscritos por UF', fontsize = 15)\n",
    "\n",
    "# Aqui podemos ver que a maioria dos inscritos são de escolas do Estado de SP."
   ]
  },
  {
   "cell_type": "code",
   "execution_count": 18,
   "id": "20e26444",
   "metadata": {},
   "outputs": [],
   "source": [
    "coluna_sexo = microdadosEnem_selecionadas['TP_SEXO']"
   ]
  },
  {
   "cell_type": "code",
   "execution_count": 19,
   "id": "dbd42610",
   "metadata": {},
   "outputs": [],
   "source": [
    "distSexo = coluna_sexo.value_counts()"
   ]
  },
  {
   "cell_type": "code",
   "execution_count": 20,
   "id": "4127a20f",
   "metadata": {},
   "outputs": [
    {
     "data": {
      "text/plain": [
       "F    2090526\n",
       "M    1299306\n",
       "Name: TP_SEXO, dtype: int64"
      ]
     },
     "execution_count": 20,
     "metadata": {},
     "output_type": "execute_result"
    }
   ],
   "source": [
    "distSexo"
   ]
  },
  {
   "cell_type": "code",
   "execution_count": 21,
   "id": "d5af133d",
   "metadata": {},
   "outputs": [],
   "source": [
    "percentSexo = [100* x/distSexo.sum() for x in distSexo]"
   ]
  },
  {
   "cell_type": "code",
   "execution_count": 22,
   "id": "9d00294d",
   "metadata": {},
   "outputs": [
    {
     "name": "stdout",
     "output_type": "stream",
     "text": [
      "Porcetagem de inscritos do sexo feminino 61.67%\n",
      "Porcentagem de inscritos do sexo masculino 38.33%\n"
     ]
    }
   ],
   "source": [
    "percentSexo\n",
    "print(f'Porcetagem de inscritos do sexo feminino {percentSexo[0].round(2)}%')\n",
    "print(f'Porcentagem de inscritos do sexo masculino {percentSexo[1].round(2)}%')\n",
    "\n",
    "# Aqui vemos que a grande maioria dos alunos inscritos para o Enem de 2021 são do sexo Feminino"
   ]
  },
  {
   "cell_type": "code",
   "execution_count": 23,
   "id": "e8b6eaa9",
   "metadata": {},
   "outputs": [],
   "source": [
    "colunas_notas = ['TP_SEXO', 'NU_NOTA_REDACAO', 'NU_NOTA_CN', 'NU_NOTA_CH', 'NU_NOTA_LC', 'NU_NOTA_MT' ]"
   ]
  },
  {
   "cell_type": "code",
   "execution_count": 24,
   "id": "be4c871e",
   "metadata": {},
   "outputs": [],
   "source": [
    "notas_enem = microdadosEnem.filter(items=colunas_notas)"
   ]
  },
  {
   "cell_type": "code",
   "execution_count": 25,
   "id": "40cda3d6",
   "metadata": {},
   "outputs": [
    {
     "data": {
      "text/html": [
       "<div>\n",
       "<style scoped>\n",
       "    .dataframe tbody tr th:only-of-type {\n",
       "        vertical-align: middle;\n",
       "    }\n",
       "\n",
       "    .dataframe tbody tr th {\n",
       "        vertical-align: top;\n",
       "    }\n",
       "\n",
       "    .dataframe thead th {\n",
       "        text-align: right;\n",
       "    }\n",
       "</style>\n",
       "<table border=\"1\" class=\"dataframe\">\n",
       "  <thead>\n",
       "    <tr style=\"text-align: right;\">\n",
       "      <th></th>\n",
       "      <th>TP_SEXO</th>\n",
       "      <th>NU_NOTA_REDACAO</th>\n",
       "      <th>NU_NOTA_CN</th>\n",
       "      <th>NU_NOTA_CH</th>\n",
       "      <th>NU_NOTA_LC</th>\n",
       "      <th>NU_NOTA_MT</th>\n",
       "    </tr>\n",
       "  </thead>\n",
       "  <tbody>\n",
       "    <tr>\n",
       "      <th>0</th>\n",
       "      <td>F</td>\n",
       "      <td>760.0</td>\n",
       "      <td>NaN</td>\n",
       "      <td>574.6</td>\n",
       "      <td>472.6</td>\n",
       "      <td>NaN</td>\n",
       "    </tr>\n",
       "    <tr>\n",
       "      <th>1</th>\n",
       "      <td>M</td>\n",
       "      <td>560.0</td>\n",
       "      <td>505.9</td>\n",
       "      <td>551.8</td>\n",
       "      <td>498.3</td>\n",
       "      <td>461.5</td>\n",
       "    </tr>\n",
       "    <tr>\n",
       "      <th>2</th>\n",
       "      <td>F</td>\n",
       "      <td>NaN</td>\n",
       "      <td>NaN</td>\n",
       "      <td>NaN</td>\n",
       "      <td>NaN</td>\n",
       "      <td>NaN</td>\n",
       "    </tr>\n",
       "    <tr>\n",
       "      <th>3</th>\n",
       "      <td>M</td>\n",
       "      <td>780.0</td>\n",
       "      <td>580.7</td>\n",
       "      <td>678.9</td>\n",
       "      <td>638.9</td>\n",
       "      <td>659.5</td>\n",
       "    </tr>\n",
       "    <tr>\n",
       "      <th>4</th>\n",
       "      <td>F</td>\n",
       "      <td>780.0</td>\n",
       "      <td>497.7</td>\n",
       "      <td>532.4</td>\n",
       "      <td>457.6</td>\n",
       "      <td>582.6</td>\n",
       "    </tr>\n",
       "  </tbody>\n",
       "</table>\n",
       "</div>"
      ],
      "text/plain": [
       "  TP_SEXO  NU_NOTA_REDACAO  NU_NOTA_CN  NU_NOTA_CH  NU_NOTA_LC  NU_NOTA_MT\n",
       "0       F            760.0         NaN       574.6       472.6         NaN\n",
       "1       M            560.0       505.9       551.8       498.3       461.5\n",
       "2       F              NaN         NaN         NaN         NaN         NaN\n",
       "3       M            780.0       580.7       678.9       638.9       659.5\n",
       "4       F            780.0       497.7       532.4       457.6       582.6"
      ]
     },
     "execution_count": 25,
     "metadata": {},
     "output_type": "execute_result"
    }
   ],
   "source": [
    "notas_enem.head()"
   ]
  },
  {
   "cell_type": "code",
   "execution_count": 26,
   "id": "e1aaaec4",
   "metadata": {},
   "outputs": [],
   "source": [
    "notas_enem  = notas_enem.dropna()"
   ]
  },
  {
   "cell_type": "code",
   "execution_count": 27,
   "id": "91148e30",
   "metadata": {},
   "outputs": [
    {
     "data": {
      "text/html": [
       "<div>\n",
       "<style scoped>\n",
       "    .dataframe tbody tr th:only-of-type {\n",
       "        vertical-align: middle;\n",
       "    }\n",
       "\n",
       "    .dataframe tbody tr th {\n",
       "        vertical-align: top;\n",
       "    }\n",
       "\n",
       "    .dataframe thead th {\n",
       "        text-align: right;\n",
       "    }\n",
       "</style>\n",
       "<table border=\"1\" class=\"dataframe\">\n",
       "  <thead>\n",
       "    <tr style=\"text-align: right;\">\n",
       "      <th></th>\n",
       "      <th>NU_NOTA_REDACAO</th>\n",
       "      <th>NU_NOTA_CN</th>\n",
       "      <th>NU_NOTA_CH</th>\n",
       "      <th>NU_NOTA_LC</th>\n",
       "      <th>NU_NOTA_MT</th>\n",
       "    </tr>\n",
       "    <tr>\n",
       "      <th>TP_SEXO</th>\n",
       "      <th></th>\n",
       "      <th></th>\n",
       "      <th></th>\n",
       "      <th></th>\n",
       "      <th></th>\n",
       "    </tr>\n",
       "  </thead>\n",
       "  <tbody>\n",
       "    <tr>\n",
       "      <th>F</th>\n",
       "      <td>1000.0</td>\n",
       "      <td>867.1</td>\n",
       "      <td>846.9</td>\n",
       "      <td>826.1</td>\n",
       "      <td>953.1</td>\n",
       "    </tr>\n",
       "    <tr>\n",
       "      <th>M</th>\n",
       "      <td>1000.0</td>\n",
       "      <td>867.1</td>\n",
       "      <td>846.9</td>\n",
       "      <td>813.2</td>\n",
       "      <td>953.1</td>\n",
       "    </tr>\n",
       "  </tbody>\n",
       "</table>\n",
       "</div>"
      ],
      "text/plain": [
       "         NU_NOTA_REDACAO  NU_NOTA_CN  NU_NOTA_CH  NU_NOTA_LC  NU_NOTA_MT\n",
       "TP_SEXO                                                                 \n",
       "F                 1000.0       867.1       846.9       826.1       953.1\n",
       "M                 1000.0       867.1       846.9       813.2       953.1"
      ]
     },
     "execution_count": 27,
     "metadata": {},
     "output_type": "execute_result"
    }
   ],
   "source": [
    "notas_enem.groupby('TP_SEXO').max()"
   ]
  },
  {
   "cell_type": "code",
   "execution_count": 28,
   "id": "23afac22",
   "metadata": {},
   "outputs": [
    {
     "data": {
      "text/html": [
       "<div>\n",
       "<style scoped>\n",
       "    .dataframe tbody tr th:only-of-type {\n",
       "        vertical-align: middle;\n",
       "    }\n",
       "\n",
       "    .dataframe tbody tr th {\n",
       "        vertical-align: top;\n",
       "    }\n",
       "\n",
       "    .dataframe thead th {\n",
       "        text-align: right;\n",
       "    }\n",
       "</style>\n",
       "<table border=\"1\" class=\"dataframe\">\n",
       "  <thead>\n",
       "    <tr style=\"text-align: right;\">\n",
       "      <th></th>\n",
       "      <th>NU_NOTA_REDACAO</th>\n",
       "      <th>NU_NOTA_CN</th>\n",
       "      <th>NU_NOTA_CH</th>\n",
       "      <th>NU_NOTA_LC</th>\n",
       "      <th>NU_NOTA_MT</th>\n",
       "    </tr>\n",
       "    <tr>\n",
       "      <th>TP_SEXO</th>\n",
       "      <th></th>\n",
       "      <th></th>\n",
       "      <th></th>\n",
       "      <th></th>\n",
       "      <th></th>\n",
       "    </tr>\n",
       "  </thead>\n",
       "  <tbody>\n",
       "    <tr>\n",
       "      <th>F</th>\n",
       "      <td>0.0</td>\n",
       "      <td>0.0</td>\n",
       "      <td>0.0</td>\n",
       "      <td>0.0</td>\n",
       "      <td>0.0</td>\n",
       "    </tr>\n",
       "    <tr>\n",
       "      <th>M</th>\n",
       "      <td>0.0</td>\n",
       "      <td>0.0</td>\n",
       "      <td>0.0</td>\n",
       "      <td>0.0</td>\n",
       "      <td>0.0</td>\n",
       "    </tr>\n",
       "  </tbody>\n",
       "</table>\n",
       "</div>"
      ],
      "text/plain": [
       "         NU_NOTA_REDACAO  NU_NOTA_CN  NU_NOTA_CH  NU_NOTA_LC  NU_NOTA_MT\n",
       "TP_SEXO                                                                 \n",
       "F                    0.0         0.0         0.0         0.0         0.0\n",
       "M                    0.0         0.0         0.0         0.0         0.0"
      ]
     },
     "execution_count": 28,
     "metadata": {},
     "output_type": "execute_result"
    }
   ],
   "source": [
    "notas_enem.groupby('TP_SEXO').min()"
   ]
  },
  {
   "cell_type": "code",
   "execution_count": 29,
   "id": "e5c91477",
   "metadata": {},
   "outputs": [
    {
     "data": {
      "text/html": [
       "<div>\n",
       "<style scoped>\n",
       "    .dataframe tbody tr th:only-of-type {\n",
       "        vertical-align: middle;\n",
       "    }\n",
       "\n",
       "    .dataframe tbody tr th {\n",
       "        vertical-align: top;\n",
       "    }\n",
       "\n",
       "    .dataframe thead th {\n",
       "        text-align: right;\n",
       "    }\n",
       "</style>\n",
       "<table border=\"1\" class=\"dataframe\">\n",
       "  <thead>\n",
       "    <tr style=\"text-align: right;\">\n",
       "      <th></th>\n",
       "      <th>NU_NOTA_REDACAO</th>\n",
       "      <th>NU_NOTA_CN</th>\n",
       "      <th>NU_NOTA_CH</th>\n",
       "      <th>NU_NOTA_LC</th>\n",
       "      <th>NU_NOTA_MT</th>\n",
       "    </tr>\n",
       "    <tr>\n",
       "      <th>TP_SEXO</th>\n",
       "      <th></th>\n",
       "      <th></th>\n",
       "      <th></th>\n",
       "      <th></th>\n",
       "      <th></th>\n",
       "    </tr>\n",
       "  </thead>\n",
       "  <tbody>\n",
       "    <tr>\n",
       "      <th>F</th>\n",
       "      <td>633.407224</td>\n",
       "      <td>483.205442</td>\n",
       "      <td>516.310264</td>\n",
       "      <td>501.675265</td>\n",
       "      <td>519.903830</td>\n",
       "    </tr>\n",
       "    <tr>\n",
       "      <th>M</th>\n",
       "      <td>605.015102</td>\n",
       "      <td>505.936664</td>\n",
       "      <td>534.273942</td>\n",
       "      <td>510.040547</td>\n",
       "      <td>559.882396</td>\n",
       "    </tr>\n",
       "  </tbody>\n",
       "</table>\n",
       "</div>"
      ],
      "text/plain": [
       "         NU_NOTA_REDACAO  NU_NOTA_CN  NU_NOTA_CH  NU_NOTA_LC  NU_NOTA_MT\n",
       "TP_SEXO                                                                 \n",
       "F             633.407224  483.205442  516.310264  501.675265  519.903830\n",
       "M             605.015102  505.936664  534.273942  510.040547  559.882396"
      ]
     },
     "execution_count": 29,
     "metadata": {},
     "output_type": "execute_result"
    }
   ],
   "source": [
    "notas_enem.groupby('TP_SEXO').mean()"
   ]
  },
  {
   "cell_type": "code",
   "execution_count": 30,
   "id": "62f5dc37",
   "metadata": {
    "scrolled": true
   },
   "outputs": [
    {
     "data": {
      "text/plain": [
       "<AxesSubplot:xlabel='TP_SEXO'>"
      ]
     },
     "execution_count": 30,
     "metadata": {},
     "output_type": "execute_result"
    },
    {
     "data": {
      "image/png": "[encoded data removed]",
      "text/plain": [
       "<Figure size 432x288 with 1 Axes>"
      ]
     },
     "metadata": {
      "needs_background": "light"
     },
     "output_type": "display_data"
    }
   ],
   "source": [
    "notas_enem.groupby('TP_SEXO').mean().plot(kind = 'bar')\n",
    "\n",
    "# Podemos notar uma média maior nas notas de redação dos inscritos do sexo feminino \n",
    "# e uma média maior nas notas das outras provas para os inscritos do sexo masculino. Porém nada significativo."
   ]
  },
  {
   "cell_type": "markdown",
   "id": "cb816bc4",
   "metadata": {},
   "source": [
    "### Vamos olhar as provas com médias mais relevantes em relação ao sexo do candidato, que foram as notas de redação e matemática, e vamos ver sua relação com o nível de escolaridade de seus pais."
   ]
  },
  {
   "cell_type": "code",
   "execution_count": 31,
   "id": "0d3498a4",
   "metadata": {},
   "outputs": [],
   "source": [
    "colunasSelec = ['NU_INSCRICAO', 'NU_NOTA_MT', 'NU_NOTA_REDACAO', 'Q001', 'Q002']"
   ]
  },
  {
   "cell_type": "code",
   "execution_count": 32,
   "id": "811bc1b3",
   "metadata": {},
   "outputs": [],
   "source": [
    "microdadosEnemSelec = microdadosEnem.filter(items=colunasSelec)"
   ]
  },
  {
   "cell_type": "code",
   "execution_count": 33,
   "id": "e04ad257",
   "metadata": {},
   "outputs": [
    {
     "data": {
      "text/html": [
       "<div>\n",
       "<style scoped>\n",
       "    .dataframe tbody tr th:only-of-type {\n",
       "        vertical-align: middle;\n",
       "    }\n",
       "\n",
       "    .dataframe tbody tr th {\n",
       "        vertical-align: top;\n",
       "    }\n",
       "\n",
       "    .dataframe thead th {\n",
       "        text-align: right;\n",
       "    }\n",
       "</style>\n",
       "<table border=\"1\" class=\"dataframe\">\n",
       "  <thead>\n",
       "    <tr style=\"text-align: right;\">\n",
       "      <th></th>\n",
       "      <th>NU_INSCRICAO</th>\n",
       "      <th>NU_NOTA_MT</th>\n",
       "      <th>NU_NOTA_REDACAO</th>\n",
       "      <th>Q001</th>\n",
       "      <th>Q002</th>\n",
       "    </tr>\n",
       "  </thead>\n",
       "  <tbody>\n",
       "    <tr>\n",
       "      <th>0</th>\n",
       "      <td>210053865474</td>\n",
       "      <td>NaN</td>\n",
       "      <td>760.0</td>\n",
       "      <td>F</td>\n",
       "      <td>F</td>\n",
       "    </tr>\n",
       "    <tr>\n",
       "      <th>1</th>\n",
       "      <td>210052384164</td>\n",
       "      <td>461.5</td>\n",
       "      <td>560.0</td>\n",
       "      <td>B</td>\n",
       "      <td>B</td>\n",
       "    </tr>\n",
       "    <tr>\n",
       "      <th>2</th>\n",
       "      <td>210052589243</td>\n",
       "      <td>NaN</td>\n",
       "      <td>NaN</td>\n",
       "      <td>B</td>\n",
       "      <td>C</td>\n",
       "    </tr>\n",
       "    <tr>\n",
       "      <th>3</th>\n",
       "      <td>210052128335</td>\n",
       "      <td>659.5</td>\n",
       "      <td>780.0</td>\n",
       "      <td>B</td>\n",
       "      <td>B</td>\n",
       "    </tr>\n",
       "    <tr>\n",
       "      <th>4</th>\n",
       "      <td>210051353021</td>\n",
       "      <td>582.6</td>\n",
       "      <td>780.0</td>\n",
       "      <td>D</td>\n",
       "      <td>E</td>\n",
       "    </tr>\n",
       "  </tbody>\n",
       "</table>\n",
       "</div>"
      ],
      "text/plain": [
       "   NU_INSCRICAO  NU_NOTA_MT  NU_NOTA_REDACAO Q001 Q002\n",
       "0  210053865474         NaN            760.0    F    F\n",
       "1  210052384164       461.5            560.0    B    B\n",
       "2  210052589243         NaN              NaN    B    C\n",
       "3  210052128335       659.5            780.0    B    B\n",
       "4  210051353021       582.6            780.0    D    E"
      ]
     },
     "execution_count": 33,
     "metadata": {},
     "output_type": "execute_result"
    }
   ],
   "source": [
    "microdadosEnemSelec.head()"
   ]
  },
  {
   "cell_type": "code",
   "execution_count": 34,
   "id": "658fd37f",
   "metadata": {},
   "outputs": [],
   "source": [
    "microdadosEnemSelec = microdadosEnemSelec.dropna()"
   ]
  },
  {
   "cell_type": "code",
   "execution_count": 35,
   "id": "610d8ebb",
   "metadata": {},
   "outputs": [
    {
     "data": {
      "text/html": [
       "<div>\n",
       "<style scoped>\n",
       "    .dataframe tbody tr th:only-of-type {\n",
       "        vertical-align: middle;\n",
       "    }\n",
       "\n",
       "    .dataframe tbody tr th {\n",
       "        vertical-align: top;\n",
       "    }\n",
       "\n",
       "    .dataframe thead th {\n",
       "        text-align: right;\n",
       "    }\n",
       "</style>\n",
       "<table border=\"1\" class=\"dataframe\">\n",
       "  <thead>\n",
       "    <tr style=\"text-align: right;\">\n",
       "      <th></th>\n",
       "      <th>NU_INSCRICAO</th>\n",
       "      <th>NU_NOTA_MT</th>\n",
       "      <th>NU_NOTA_REDACAO</th>\n",
       "      <th>Q001</th>\n",
       "      <th>Q002</th>\n",
       "    </tr>\n",
       "  </thead>\n",
       "  <tbody>\n",
       "    <tr>\n",
       "      <th>1</th>\n",
       "      <td>210052384164</td>\n",
       "      <td>461.5</td>\n",
       "      <td>560.0</td>\n",
       "      <td>B</td>\n",
       "      <td>B</td>\n",
       "    </tr>\n",
       "    <tr>\n",
       "      <th>3</th>\n",
       "      <td>210052128335</td>\n",
       "      <td>659.5</td>\n",
       "      <td>780.0</td>\n",
       "      <td>B</td>\n",
       "      <td>B</td>\n",
       "    </tr>\n",
       "    <tr>\n",
       "      <th>4</th>\n",
       "      <td>210051353021</td>\n",
       "      <td>582.6</td>\n",
       "      <td>780.0</td>\n",
       "      <td>D</td>\n",
       "      <td>E</td>\n",
       "    </tr>\n",
       "    <tr>\n",
       "      <th>8</th>\n",
       "      <td>210053417016</td>\n",
       "      <td>493.4</td>\n",
       "      <td>520.0</td>\n",
       "      <td>B</td>\n",
       "      <td>B</td>\n",
       "    </tr>\n",
       "    <tr>\n",
       "      <th>9</th>\n",
       "      <td>210051128744</td>\n",
       "      <td>413.3</td>\n",
       "      <td>380.0</td>\n",
       "      <td>D</td>\n",
       "      <td>D</td>\n",
       "    </tr>\n",
       "  </tbody>\n",
       "</table>\n",
       "</div>"
      ],
      "text/plain": [
       "   NU_INSCRICAO  NU_NOTA_MT  NU_NOTA_REDACAO Q001 Q002\n",
       "1  210052384164       461.5            560.0    B    B\n",
       "3  210052128335       659.5            780.0    B    B\n",
       "4  210051353021       582.6            780.0    D    E\n",
       "8  210053417016       493.4            520.0    B    B\n",
       "9  210051128744       413.3            380.0    D    D"
      ]
     },
     "execution_count": 35,
     "metadata": {},
     "output_type": "execute_result"
    }
   ],
   "source": [
    "microdadosEnemSelec.head()"
   ]
  },
  {
   "cell_type": "code",
   "execution_count": 36,
   "id": "6b7dac5c",
   "metadata": {},
   "outputs": [],
   "source": [
    "diconario001e002 = {'A': 'Nunca estudou', 'B':'Não completou a 4ª série/5º ano do Ensino Fundamental', \n",
    "                    'C':'Completou a 4ª série/5º ano, mas não completou a 8ª série/9º ano do Ensino Fundamental', \n",
    "                    'D':'Completou a 8ª série/9º ano do Ensino Fundamental, mas não completou o Ensino Médio', \n",
    "                    'E': 'Completou o Ensino Médio, mas não completou a Faculdade', \n",
    "                    'F': 'Completou a Faculdade, mas não completou a Pós-graduação', \n",
    "                    'G': 'Completou a Pós-graduação','H': 'Não sei'}"
   ]
  },
  {
   "cell_type": "markdown",
   "id": "3b1543c1",
   "metadata": {},
   "source": [
    "### Criando uma coluna e conectando os dados do diconario001e002 com a tabela Q001 e Q002."
   ]
  },
  {
   "cell_type": "code",
   "execution_count": 37,
   "id": "1f2de994",
   "metadata": {},
   "outputs": [],
   "source": [
    "microdadosEnemSelec['NO_Q001'] = [diconario001e002[opc] for opc in microdadosEnemSelec.Q001]"
   ]
  },
  {
   "cell_type": "code",
   "execution_count": 38,
   "id": "90941903",
   "metadata": {},
   "outputs": [
    {
     "data": {
      "text/html": [
       "<div>\n",
       "<style scoped>\n",
       "    .dataframe tbody tr th:only-of-type {\n",
       "        vertical-align: middle;\n",
       "    }\n",
       "\n",
       "    .dataframe tbody tr th {\n",
       "        vertical-align: top;\n",
       "    }\n",
       "\n",
       "    .dataframe thead th {\n",
       "        text-align: right;\n",
       "    }\n",
       "</style>\n",
       "<table border=\"1\" class=\"dataframe\">\n",
       "  <thead>\n",
       "    <tr style=\"text-align: right;\">\n",
       "      <th></th>\n",
       "      <th>NU_INSCRICAO</th>\n",
       "      <th>NU_NOTA_MT</th>\n",
       "      <th>NU_NOTA_REDACAO</th>\n",
       "      <th>Q001</th>\n",
       "      <th>Q002</th>\n",
       "      <th>NO_Q001</th>\n",
       "    </tr>\n",
       "  </thead>\n",
       "  <tbody>\n",
       "    <tr>\n",
       "      <th>1</th>\n",
       "      <td>210052384164</td>\n",
       "      <td>461.5</td>\n",
       "      <td>560.0</td>\n",
       "      <td>B</td>\n",
       "      <td>B</td>\n",
       "      <td>Não completou a 4ª série/5º ano do Ensino Fund...</td>\n",
       "    </tr>\n",
       "    <tr>\n",
       "      <th>3</th>\n",
       "      <td>210052128335</td>\n",
       "      <td>659.5</td>\n",
       "      <td>780.0</td>\n",
       "      <td>B</td>\n",
       "      <td>B</td>\n",
       "      <td>Não completou a 4ª série/5º ano do Ensino Fund...</td>\n",
       "    </tr>\n",
       "    <tr>\n",
       "      <th>4</th>\n",
       "      <td>210051353021</td>\n",
       "      <td>582.6</td>\n",
       "      <td>780.0</td>\n",
       "      <td>D</td>\n",
       "      <td>E</td>\n",
       "      <td>Completou a 8ª série/9º ano do Ensino Fundamen...</td>\n",
       "    </tr>\n",
       "    <tr>\n",
       "      <th>8</th>\n",
       "      <td>210053417016</td>\n",
       "      <td>493.4</td>\n",
       "      <td>520.0</td>\n",
       "      <td>B</td>\n",
       "      <td>B</td>\n",
       "      <td>Não completou a 4ª série/5º ano do Ensino Fund...</td>\n",
       "    </tr>\n",
       "    <tr>\n",
       "      <th>9</th>\n",
       "      <td>210051128744</td>\n",
       "      <td>413.3</td>\n",
       "      <td>380.0</td>\n",
       "      <td>D</td>\n",
       "      <td>D</td>\n",
       "      <td>Completou a 8ª série/9º ano do Ensino Fundamen...</td>\n",
       "    </tr>\n",
       "  </tbody>\n",
       "</table>\n",
       "</div>"
      ],
      "text/plain": [
       "   NU_INSCRICAO  NU_NOTA_MT  NU_NOTA_REDACAO Q001 Q002  \\\n",
       "1  210052384164       461.5            560.0    B    B   \n",
       "3  210052128335       659.5            780.0    B    B   \n",
       "4  210051353021       582.6            780.0    D    E   \n",
       "8  210053417016       493.4            520.0    B    B   \n",
       "9  210051128744       413.3            380.0    D    D   \n",
       "\n",
       "                                             NO_Q001  \n",
       "1  Não completou a 4ª série/5º ano do Ensino Fund...  \n",
       "3  Não completou a 4ª série/5º ano do Ensino Fund...  \n",
       "4  Completou a 8ª série/9º ano do Ensino Fundamen...  \n",
       "8  Não completou a 4ª série/5º ano do Ensino Fund...  \n",
       "9  Completou a 8ª série/9º ano do Ensino Fundamen...  "
      ]
     },
     "execution_count": 38,
     "metadata": {},
     "output_type": "execute_result"
    }
   ],
   "source": [
    "microdadosEnemSelec.head()"
   ]
  },
  {
   "cell_type": "code",
   "execution_count": 39,
   "id": "4e3be26f",
   "metadata": {},
   "outputs": [],
   "source": [
    "microdadosEnemSelec['NO_Q002'] = [diconario001e002[opc] for opc in microdadosEnemSelec.Q002 ]"
   ]
  },
  {
   "cell_type": "code",
   "execution_count": 40,
   "id": "128c7a8b",
   "metadata": {},
   "outputs": [
    {
     "data": {
      "text/html": [
       "<div>\n",
       "<style scoped>\n",
       "    .dataframe tbody tr th:only-of-type {\n",
       "        vertical-align: middle;\n",
       "    }\n",
       "\n",
       "    .dataframe tbody tr th {\n",
       "        vertical-align: top;\n",
       "    }\n",
       "\n",
       "    .dataframe thead th {\n",
       "        text-align: right;\n",
       "    }\n",
       "</style>\n",
       "<table border=\"1\" class=\"dataframe\">\n",
       "  <thead>\n",
       "    <tr style=\"text-align: right;\">\n",
       "      <th></th>\n",
       "      <th>NU_INSCRICAO</th>\n",
       "      <th>NU_NOTA_MT</th>\n",
       "      <th>NU_NOTA_REDACAO</th>\n",
       "      <th>Q001</th>\n",
       "      <th>Q002</th>\n",
       "      <th>NO_Q001</th>\n",
       "      <th>NO_Q002</th>\n",
       "    </tr>\n",
       "  </thead>\n",
       "  <tbody>\n",
       "    <tr>\n",
       "      <th>1</th>\n",
       "      <td>210052384164</td>\n",
       "      <td>461.5</td>\n",
       "      <td>560.0</td>\n",
       "      <td>B</td>\n",
       "      <td>B</td>\n",
       "      <td>Não completou a 4ª série/5º ano do Ensino Fund...</td>\n",
       "      <td>Não completou a 4ª série/5º ano do Ensino Fund...</td>\n",
       "    </tr>\n",
       "    <tr>\n",
       "      <th>3</th>\n",
       "      <td>210052128335</td>\n",
       "      <td>659.5</td>\n",
       "      <td>780.0</td>\n",
       "      <td>B</td>\n",
       "      <td>B</td>\n",
       "      <td>Não completou a 4ª série/5º ano do Ensino Fund...</td>\n",
       "      <td>Não completou a 4ª série/5º ano do Ensino Fund...</td>\n",
       "    </tr>\n",
       "    <tr>\n",
       "      <th>4</th>\n",
       "      <td>210051353021</td>\n",
       "      <td>582.6</td>\n",
       "      <td>780.0</td>\n",
       "      <td>D</td>\n",
       "      <td>E</td>\n",
       "      <td>Completou a 8ª série/9º ano do Ensino Fundamen...</td>\n",
       "      <td>Completou o Ensino Médio, mas não completou a ...</td>\n",
       "    </tr>\n",
       "    <tr>\n",
       "      <th>8</th>\n",
       "      <td>210053417016</td>\n",
       "      <td>493.4</td>\n",
       "      <td>520.0</td>\n",
       "      <td>B</td>\n",
       "      <td>B</td>\n",
       "      <td>Não completou a 4ª série/5º ano do Ensino Fund...</td>\n",
       "      <td>Não completou a 4ª série/5º ano do Ensino Fund...</td>\n",
       "    </tr>\n",
       "    <tr>\n",
       "      <th>9</th>\n",
       "      <td>210051128744</td>\n",
       "      <td>413.3</td>\n",
       "      <td>380.0</td>\n",
       "      <td>D</td>\n",
       "      <td>D</td>\n",
       "      <td>Completou a 8ª série/9º ano do Ensino Fundamen...</td>\n",
       "      <td>Completou a 8ª série/9º ano do Ensino Fundamen...</td>\n",
       "    </tr>\n",
       "  </tbody>\n",
       "</table>\n",
       "</div>"
      ],
      "text/plain": [
       "   NU_INSCRICAO  NU_NOTA_MT  NU_NOTA_REDACAO Q001 Q002  \\\n",
       "1  210052384164       461.5            560.0    B    B   \n",
       "3  210052128335       659.5            780.0    B    B   \n",
       "4  210051353021       582.6            780.0    D    E   \n",
       "8  210053417016       493.4            520.0    B    B   \n",
       "9  210051128744       413.3            380.0    D    D   \n",
       "\n",
       "                                             NO_Q001  \\\n",
       "1  Não completou a 4ª série/5º ano do Ensino Fund...   \n",
       "3  Não completou a 4ª série/5º ano do Ensino Fund...   \n",
       "4  Completou a 8ª série/9º ano do Ensino Fundamen...   \n",
       "8  Não completou a 4ª série/5º ano do Ensino Fund...   \n",
       "9  Completou a 8ª série/9º ano do Ensino Fundamen...   \n",
       "\n",
       "                                             NO_Q002  \n",
       "1  Não completou a 4ª série/5º ano do Ensino Fund...  \n",
       "3  Não completou a 4ª série/5º ano do Ensino Fund...  \n",
       "4  Completou o Ensino Médio, mas não completou a ...  \n",
       "8  Não completou a 4ª série/5º ano do Ensino Fund...  \n",
       "9  Completou a 8ª série/9º ano do Ensino Fundamen...  "
      ]
     },
     "execution_count": 40,
     "metadata": {},
     "output_type": "execute_result"
    }
   ],
   "source": [
    "microdadosEnemSelec.head()"
   ]
  },
  {
   "cell_type": "code",
   "execution_count": 41,
   "id": "60a33b1c",
   "metadata": {},
   "outputs": [
    {
     "data": {
      "text/plain": [
       "'Não completou a 4ª série/5º ano do Ensino Fundamental'"
      ]
     },
     "execution_count": 41,
     "metadata": {},
     "output_type": "execute_result"
    }
   ],
   "source": [
    "microdadosEnemSelec.NO_Q001[1]"
   ]
  },
  {
   "cell_type": "markdown",
   "id": "05b4bef5",
   "metadata": {},
   "source": [
    "### Comparando nivel de escolaridade do pai"
   ]
  },
  {
   "cell_type": "code",
   "execution_count": 42,
   "id": "68ef7786",
   "metadata": {},
   "outputs": [
    {
     "data": {
      "text/html": [
       "<div>\n",
       "<style scoped>\n",
       "    .dataframe tbody tr th:only-of-type {\n",
       "        vertical-align: middle;\n",
       "    }\n",
       "\n",
       "    .dataframe tbody tr th {\n",
       "        vertical-align: top;\n",
       "    }\n",
       "\n",
       "    .dataframe thead th {\n",
       "        text-align: right;\n",
       "    }\n",
       "</style>\n",
       "<table border=\"1\" class=\"dataframe\">\n",
       "  <thead>\n",
       "    <tr style=\"text-align: right;\">\n",
       "      <th></th>\n",
       "      <th>NU_INSCRICAO</th>\n",
       "    </tr>\n",
       "    <tr>\n",
       "      <th>NO_Q001</th>\n",
       "      <th></th>\n",
       "    </tr>\n",
       "  </thead>\n",
       "  <tbody>\n",
       "    <tr>\n",
       "      <th>Completou o Ensino Médio, mas não completou a Faculdade</th>\n",
       "      <td>681530</td>\n",
       "    </tr>\n",
       "    <tr>\n",
       "      <th>Não completou a 4ª série/5º ano do Ensino Fundamental</th>\n",
       "      <td>349980</td>\n",
       "    </tr>\n",
       "    <tr>\n",
       "      <th>Completou a 4ª série/5º ano, mas não completou a 8ª série/9º ano do Ensino Fundamental</th>\n",
       "      <td>281447</td>\n",
       "    </tr>\n",
       "    <tr>\n",
       "      <th>Completou a Faculdade, mas não completou a Pós-graduação</th>\n",
       "      <td>246549</td>\n",
       "    </tr>\n",
       "    <tr>\n",
       "      <th>Completou a 8ª série/9º ano do Ensino Fundamental, mas não completou o Ensino Médio</th>\n",
       "      <td>245630</td>\n",
       "    </tr>\n",
       "    <tr>\n",
       "      <th>Completou a Pós-graduação</th>\n",
       "      <td>183606</td>\n",
       "    </tr>\n",
       "    <tr>\n",
       "      <th>Não sei</th>\n",
       "      <td>172965</td>\n",
       "    </tr>\n",
       "    <tr>\n",
       "      <th>Nunca estudou</th>\n",
       "      <td>76399</td>\n",
       "    </tr>\n",
       "  </tbody>\n",
       "</table>\n",
       "</div>"
      ],
      "text/plain": [
       "                                                    NU_INSCRICAO\n",
       "NO_Q001                                                         \n",
       "Completou o Ensino Médio, mas não completou a F...        681530\n",
       "Não completou a 4ª série/5º ano do Ensino Funda...        349980\n",
       "Completou a 4ª série/5º ano, mas não completou ...        281447\n",
       "Completou a Faculdade, mas não completou a Pós-...        246549\n",
       "Completou a 8ª série/9º ano do Ensino Fundament...        245630\n",
       "Completou a Pós-graduação                                 183606\n",
       "Não sei                                                   172965\n",
       "Nunca estudou                                              76399"
      ]
     },
     "execution_count": 42,
     "metadata": {},
     "output_type": "execute_result"
    }
   ],
   "source": [
    "microdadosEnemSelec.filter(items =['NU_INSCRICAO', 'NO_Q001']).groupby('NO_Q001').count().sort_values(by='NU_INSCRICAO', \n",
    "                                                                                                      ascending = False)\n",
    "# Podemos verificar aqui que a maioria dos inscritos possui pais com ensino médio completo. \n"
   ]
  },
  {
   "cell_type": "markdown",
   "id": "ce118f26",
   "metadata": {},
   "source": [
    "## Comparando nivel de escolaridade da mãe"
   ]
  },
  {
   "cell_type": "code",
   "execution_count": 43,
   "id": "249f09ef",
   "metadata": {},
   "outputs": [
    {
     "data": {
      "text/html": [
       "<div>\n",
       "<style scoped>\n",
       "    .dataframe tbody tr th:only-of-type {\n",
       "        vertical-align: middle;\n",
       "    }\n",
       "\n",
       "    .dataframe tbody tr th {\n",
       "        vertical-align: top;\n",
       "    }\n",
       "\n",
       "    .dataframe thead th {\n",
       "        text-align: right;\n",
       "    }\n",
       "</style>\n",
       "<table border=\"1\" class=\"dataframe\">\n",
       "  <thead>\n",
       "    <tr style=\"text-align: right;\">\n",
       "      <th></th>\n",
       "      <th>NU_INSCRICAO</th>\n",
       "    </tr>\n",
       "    <tr>\n",
       "      <th>NO_Q002</th>\n",
       "      <th></th>\n",
       "    </tr>\n",
       "  </thead>\n",
       "  <tbody>\n",
       "    <tr>\n",
       "      <th>Completou o Ensino Médio, mas não completou a Faculdade</th>\n",
       "      <td>795005</td>\n",
       "    </tr>\n",
       "    <tr>\n",
       "      <th>Completou a Faculdade, mas não completou a Pós-graduação</th>\n",
       "      <td>321187</td>\n",
       "    </tr>\n",
       "    <tr>\n",
       "      <th>Completou a Pós-graduação</th>\n",
       "      <td>309702</td>\n",
       "    </tr>\n",
       "    <tr>\n",
       "      <th>Completou a 8ª série/9º ano do Ensino Fundamental, mas não completou o Ensino Médio</th>\n",
       "      <td>245533</td>\n",
       "    </tr>\n",
       "    <tr>\n",
       "      <th>Não completou a 4ª série/5º ano do Ensino Fundamental</th>\n",
       "      <td>243449</td>\n",
       "    </tr>\n",
       "    <tr>\n",
       "      <th>Completou a 4ª série/5º ano, mas não completou a 8ª série/9º ano do Ensino Fundamental</th>\n",
       "      <td>226251</td>\n",
       "    </tr>\n",
       "    <tr>\n",
       "      <th>Não sei</th>\n",
       "      <td>48908</td>\n",
       "    </tr>\n",
       "    <tr>\n",
       "      <th>Nunca estudou</th>\n",
       "      <td>48071</td>\n",
       "    </tr>\n",
       "  </tbody>\n",
       "</table>\n",
       "</div>"
      ],
      "text/plain": [
       "                                                    NU_INSCRICAO\n",
       "NO_Q002                                                         \n",
       "Completou o Ensino Médio, mas não completou a F...        795005\n",
       "Completou a Faculdade, mas não completou a Pós-...        321187\n",
       "Completou a Pós-graduação                                 309702\n",
       "Completou a 8ª série/9º ano do Ensino Fundament...        245533\n",
       "Não completou a 4ª série/5º ano do Ensino Funda...        243449\n",
       "Completou a 4ª série/5º ano, mas não completou ...        226251\n",
       "Não sei                                                    48908\n",
       "Nunca estudou                                              48071"
      ]
     },
     "execution_count": 43,
     "metadata": {},
     "output_type": "execute_result"
    }
   ],
   "source": [
    "microdadosEnemSelec.filter(items =['NU_INSCRICAO', 'NO_Q002']).groupby('NO_Q002').count().sort_values(by='NU_INSCRICAO', \n",
    "                                                                                                      ascending = False)\n",
    "\n",
    "# Podemos verificar aqui que a maioria dos inscritos possui mães com ensino médio completo. "
   ]
  },
  {
   "cell_type": "markdown",
   "id": "a0cdc23b",
   "metadata": {},
   "source": [
    "## Notas de matemática comparando a escolaridade do pai."
   ]
  },
  {
   "cell_type": "code",
   "execution_count": 44,
   "id": "0aaaffec",
   "metadata": {},
   "outputs": [],
   "source": [
    "q001mat = microdadosEnemSelec.filter(items =['NU_NOTA_MT', 'NO_Q001']).groupby('NO_Q001').mean().sort_values(by='NU_NOTA_MT', ascending = False)"
   ]
  },
  {
   "cell_type": "code",
   "execution_count": 45,
   "id": "e8bfc8c5",
   "metadata": {},
   "outputs": [
    {
     "data": {
      "text/html": [
       "<div>\n",
       "<style scoped>\n",
       "    .dataframe tbody tr th:only-of-type {\n",
       "        vertical-align: middle;\n",
       "    }\n",
       "\n",
       "    .dataframe tbody tr th {\n",
       "        vertical-align: top;\n",
       "    }\n",
       "\n",
       "    .dataframe thead th {\n",
       "        text-align: right;\n",
       "    }\n",
       "</style>\n",
       "<table border=\"1\" class=\"dataframe\">\n",
       "  <thead>\n",
       "    <tr style=\"text-align: right;\">\n",
       "      <th></th>\n",
       "      <th>NU_NOTA_MT</th>\n",
       "    </tr>\n",
       "    <tr>\n",
       "      <th>NO_Q001</th>\n",
       "      <th></th>\n",
       "    </tr>\n",
       "  </thead>\n",
       "  <tbody>\n",
       "    <tr>\n",
       "      <th>Completou a Pós-graduação</th>\n",
       "      <td>613.461090</td>\n",
       "    </tr>\n",
       "    <tr>\n",
       "      <th>Completou a Faculdade, mas não completou a Pós-graduação</th>\n",
       "      <td>597.511863</td>\n",
       "    </tr>\n",
       "    <tr>\n",
       "      <th>Completou o Ensino Médio, mas não completou a Faculdade</th>\n",
       "      <td>543.113614</td>\n",
       "    </tr>\n",
       "    <tr>\n",
       "      <th>Completou a 8ª série/9º ano do Ensino Fundamental, mas não completou o Ensino Médio</th>\n",
       "      <td>521.973493</td>\n",
       "    </tr>\n",
       "    <tr>\n",
       "      <th>Completou a 4ª série/5º ano, mas não completou a 8ª série/9º ano do Ensino Fundamental</th>\n",
       "      <td>511.070163</td>\n",
       "    </tr>\n",
       "    <tr>\n",
       "      <th>Não sei</th>\n",
       "      <td>504.740075</td>\n",
       "    </tr>\n",
       "    <tr>\n",
       "      <th>Não completou a 4ª série/5º ano do Ensino Fundamental</th>\n",
       "      <td>492.429393</td>\n",
       "    </tr>\n",
       "    <tr>\n",
       "      <th>Nunca estudou</th>\n",
       "      <td>471.658243</td>\n",
       "    </tr>\n",
       "  </tbody>\n",
       "</table>\n",
       "</div>"
      ],
      "text/plain": [
       "                                                    NU_NOTA_MT\n",
       "NO_Q001                                                       \n",
       "Completou a Pós-graduação                           613.461090\n",
       "Completou a Faculdade, mas não completou a Pós-...  597.511863\n",
       "Completou o Ensino Médio, mas não completou a F...  543.113614\n",
       "Completou a 8ª série/9º ano do Ensino Fundament...  521.973493\n",
       "Completou a 4ª série/5º ano, mas não completou ...  511.070163\n",
       "Não sei                                             504.740075\n",
       "Não completou a 4ª série/5º ano do Ensino Funda...  492.429393\n",
       "Nunca estudou                                       471.658243"
      ]
     },
     "execution_count": 45,
     "metadata": {},
     "output_type": "execute_result"
    }
   ],
   "source": [
    "q001mat\n",
    "\n",
    "# Podemos ver que as melhores notas estão relacionadas, de forma diretamente proporcinal, ao nível de escolaridade do pai."
   ]
  },
  {
   "cell_type": "code",
   "execution_count": 46,
   "id": "7be5a01f",
   "metadata": {},
   "outputs": [],
   "source": [
    "import seaborn as sns"
   ]
  },
  {
   "cell_type": "code",
   "execution_count": 47,
   "id": "63d62c42",
   "metadata": {},
   "outputs": [
    {
     "data": {
      "text/plain": [
       "<AxesSubplot:title={'center':'Escolaridade do pai X Nota de Matemática'}, xlabel='Notas de Matemática', ylabel='Nível de escolaridade dos pais'>"
      ]
     },
     "execution_count": 47,
     "metadata": {},
     "output_type": "execute_result"
    },
    {
     "data": {
      "image/png": "[encoded data removed]",
      "text/plain": [
       "<Figure size 864x432 with 1 Axes>"
      ]
     },
     "metadata": {
      "needs_background": "light"
     },
     "output_type": "display_data"
    }
   ],
   "source": [
    "ax = sns.scatterplot(x = 'NU_NOTA_MT', y = 'NO_Q001', data = q001mat )\n",
    "ax.figure.set_size_inches(12, 6)\n",
    "ax.set_title('Escolaridade do pai X Nota de Matemática', fontsize=18)\n",
    "ax.set_xlabel('Notas de Matemática', fontsize=14)\n",
    "ax.set_ylabel('Nível de escolaridade dos pais', fontsize=14)\n",
    "ax"
   ]
  },
  {
   "cell_type": "markdown",
   "id": "66f8fb5e",
   "metadata": {},
   "source": [
    "## Notas de matemática comparando a escolaridade da mãe."
   ]
  },
  {
   "cell_type": "code",
   "execution_count": 48,
   "id": "71d2de6d",
   "metadata": {},
   "outputs": [],
   "source": [
    "q002mat = microdadosEnemSelec.filter(items =['NU_NOTA_MT', 'NO_Q002']).groupby('NO_Q002').mean().sort_values(by='NU_NOTA_MT', ascending = False)"
   ]
  },
  {
   "cell_type": "code",
   "execution_count": 49,
   "id": "8919f968",
   "metadata": {},
   "outputs": [
    {
     "data": {
      "text/html": [
       "<div>\n",
       "<style scoped>\n",
       "    .dataframe tbody tr th:only-of-type {\n",
       "        vertical-align: middle;\n",
       "    }\n",
       "\n",
       "    .dataframe tbody tr th {\n",
       "        vertical-align: top;\n",
       "    }\n",
       "\n",
       "    .dataframe thead th {\n",
       "        text-align: right;\n",
       "    }\n",
       "</style>\n",
       "<table border=\"1\" class=\"dataframe\">\n",
       "  <thead>\n",
       "    <tr style=\"text-align: right;\">\n",
       "      <th></th>\n",
       "      <th>NU_NOTA_MT</th>\n",
       "    </tr>\n",
       "    <tr>\n",
       "      <th>NO_Q002</th>\n",
       "      <th></th>\n",
       "    </tr>\n",
       "  </thead>\n",
       "  <tbody>\n",
       "    <tr>\n",
       "      <th>Completou a Pós-graduação</th>\n",
       "      <td>592.406291</td>\n",
       "    </tr>\n",
       "    <tr>\n",
       "      <th>Completou a Faculdade, mas não completou a Pós-graduação</th>\n",
       "      <td>582.600755</td>\n",
       "    </tr>\n",
       "    <tr>\n",
       "      <th>Completou o Ensino Médio, mas não completou a Faculdade</th>\n",
       "      <td>533.379838</td>\n",
       "    </tr>\n",
       "    <tr>\n",
       "      <th>Completou a 8ª série/9º ano do Ensino Fundamental, mas não completou o Ensino Médio</th>\n",
       "      <td>510.363869</td>\n",
       "    </tr>\n",
       "    <tr>\n",
       "      <th>Completou a 4ª série/5º ano, mas não completou a 8ª série/9º ano do Ensino Fundamental</th>\n",
       "      <td>501.083591</td>\n",
       "    </tr>\n",
       "    <tr>\n",
       "      <th>Não sei</th>\n",
       "      <td>493.232768</td>\n",
       "    </tr>\n",
       "    <tr>\n",
       "      <th>Não completou a 4ª série/5º ano do Ensino Fundamental</th>\n",
       "      <td>484.995819</td>\n",
       "    </tr>\n",
       "    <tr>\n",
       "      <th>Nunca estudou</th>\n",
       "      <td>464.279863</td>\n",
       "    </tr>\n",
       "  </tbody>\n",
       "</table>\n",
       "</div>"
      ],
      "text/plain": [
       "                                                    NU_NOTA_MT\n",
       "NO_Q002                                                       \n",
       "Completou a Pós-graduação                           592.406291\n",
       "Completou a Faculdade, mas não completou a Pós-...  582.600755\n",
       "Completou o Ensino Médio, mas não completou a F...  533.379838\n",
       "Completou a 8ª série/9º ano do Ensino Fundament...  510.363869\n",
       "Completou a 4ª série/5º ano, mas não completou ...  501.083591\n",
       "Não sei                                             493.232768\n",
       "Não completou a 4ª série/5º ano do Ensino Funda...  484.995819\n",
       "Nunca estudou                                       464.279863"
      ]
     },
     "execution_count": 49,
     "metadata": {},
     "output_type": "execute_result"
    }
   ],
   "source": [
    "q002mat\n",
    "\n",
    "# Podemos ver que as melhores notas estão relacionadas, de forma linear, ao nível de escolaridade da mãe. "
   ]
  },
  {
   "cell_type": "code",
   "execution_count": 50,
   "id": "80954534",
   "metadata": {},
   "outputs": [
    {
     "data": {
      "text/html": [
       "<div>\n",
       "<style scoped>\n",
       "    .dataframe tbody tr th:only-of-type {\n",
       "        vertical-align: middle;\n",
       "    }\n",
       "\n",
       "    .dataframe tbody tr th {\n",
       "        vertical-align: top;\n",
       "    }\n",
       "\n",
       "    .dataframe thead tr th {\n",
       "        text-align: left;\n",
       "    }\n",
       "\n",
       "    .dataframe thead tr:last-of-type th {\n",
       "        text-align: right;\n",
       "    }\n",
       "</style>\n",
       "<table border=\"1\" class=\"dataframe\">\n",
       "  <thead>\n",
       "    <tr>\n",
       "      <th></th>\n",
       "      <th colspan=\"8\" halign=\"left\">NU_NOTA_MT</th>\n",
       "    </tr>\n",
       "    <tr>\n",
       "      <th></th>\n",
       "      <th>count</th>\n",
       "      <th>mean</th>\n",
       "      <th>std</th>\n",
       "      <th>min</th>\n",
       "      <th>25%</th>\n",
       "      <th>50%</th>\n",
       "      <th>75%</th>\n",
       "      <th>max</th>\n",
       "    </tr>\n",
       "    <tr>\n",
       "      <th>NO_Q001</th>\n",
       "      <th></th>\n",
       "      <th></th>\n",
       "      <th></th>\n",
       "      <th></th>\n",
       "      <th></th>\n",
       "      <th></th>\n",
       "      <th></th>\n",
       "      <th></th>\n",
       "    </tr>\n",
       "  </thead>\n",
       "  <tbody>\n",
       "    <tr>\n",
       "      <th>Completou a 4ª série/5º ano, mas não completou a 8ª série/9º ano do Ensino Fundamental</th>\n",
       "      <td>281447.0</td>\n",
       "      <td>511.070163</td>\n",
       "      <td>97.281056</td>\n",
       "      <td>0.0</td>\n",
       "      <td>434.3</td>\n",
       "      <td>491.4</td>\n",
       "      <td>574.7</td>\n",
       "      <td>953.1</td>\n",
       "    </tr>\n",
       "    <tr>\n",
       "      <th>Completou a 8ª série/9º ano do Ensino Fundamental, mas não completou o Ensino Médio</th>\n",
       "      <td>245630.0</td>\n",
       "      <td>521.973493</td>\n",
       "      <td>100.632967</td>\n",
       "      <td>0.0</td>\n",
       "      <td>441.2</td>\n",
       "      <td>504.0</td>\n",
       "      <td>591.1</td>\n",
       "      <td>953.1</td>\n",
       "    </tr>\n",
       "    <tr>\n",
       "      <th>Completou a Faculdade, mas não completou a Pós-graduação</th>\n",
       "      <td>246549.0</td>\n",
       "      <td>597.511863</td>\n",
       "      <td>117.307726</td>\n",
       "      <td>0.0</td>\n",
       "      <td>502.7</td>\n",
       "      <td>601.8</td>\n",
       "      <td>684.0</td>\n",
       "      <td>953.1</td>\n",
       "    </tr>\n",
       "    <tr>\n",
       "      <th>Completou a Pós-graduação</th>\n",
       "      <td>183606.0</td>\n",
       "      <td>613.461090</td>\n",
       "      <td>119.512693</td>\n",
       "      <td>0.0</td>\n",
       "      <td>519.5</td>\n",
       "      <td>622.3</td>\n",
       "      <td>700.7</td>\n",
       "      <td>953.1</td>\n",
       "    </tr>\n",
       "    <tr>\n",
       "      <th>Completou o Ensino Médio, mas não completou a Faculdade</th>\n",
       "      <td>681530.0</td>\n",
       "      <td>543.113614</td>\n",
       "      <td>107.484050</td>\n",
       "      <td>0.0</td>\n",
       "      <td>454.7</td>\n",
       "      <td>529.4</td>\n",
       "      <td>621.5</td>\n",
       "      <td>953.1</td>\n",
       "    </tr>\n",
       "    <tr>\n",
       "      <th>Nunca estudou</th>\n",
       "      <td>76399.0</td>\n",
       "      <td>471.658243</td>\n",
       "      <td>80.443339</td>\n",
       "      <td>0.0</td>\n",
       "      <td>412.9</td>\n",
       "      <td>453.3</td>\n",
       "      <td>513.0</td>\n",
       "      <td>953.1</td>\n",
       "    </tr>\n",
       "    <tr>\n",
       "      <th>Não completou a 4ª série/5º ano do Ensino Fundamental</th>\n",
       "      <td>349980.0</td>\n",
       "      <td>492.429393</td>\n",
       "      <td>89.595417</td>\n",
       "      <td>0.0</td>\n",
       "      <td>424.0</td>\n",
       "      <td>472.6</td>\n",
       "      <td>545.4</td>\n",
       "      <td>930.6</td>\n",
       "    </tr>\n",
       "    <tr>\n",
       "      <th>Não sei</th>\n",
       "      <td>172965.0</td>\n",
       "      <td>504.740075</td>\n",
       "      <td>95.641760</td>\n",
       "      <td>0.0</td>\n",
       "      <td>430.1</td>\n",
       "      <td>483.9</td>\n",
       "      <td>565.5</td>\n",
       "      <td>953.1</td>\n",
       "    </tr>\n",
       "  </tbody>\n",
       "</table>\n",
       "</div>"
      ],
      "text/plain": [
       "                                                   NU_NOTA_MT              \\\n",
       "                                                        count        mean   \n",
       "NO_Q001                                                                     \n",
       "Completou a 4ª série/5º ano, mas não completou ...   281447.0  511.070163   \n",
       "Completou a 8ª série/9º ano do Ensino Fundament...   245630.0  521.973493   \n",
       "Completou a Faculdade, mas não completou a Pós-...   246549.0  597.511863   \n",
       "Completou a Pós-graduação                            183606.0  613.461090   \n",
       "Completou o Ensino Médio, mas não completou a F...   681530.0  543.113614   \n",
       "Nunca estudou                                         76399.0  471.658243   \n",
       "Não completou a 4ª série/5º ano do Ensino Funda...   349980.0  492.429393   \n",
       "Não sei                                              172965.0  504.740075   \n",
       "\n",
       "                                                                            \\\n",
       "                                                           std  min    25%   \n",
       "NO_Q001                                                                      \n",
       "Completou a 4ª série/5º ano, mas não completou ...   97.281056  0.0  434.3   \n",
       "Completou a 8ª série/9º ano do Ensino Fundament...  100.632967  0.0  441.2   \n",
       "Completou a Faculdade, mas não completou a Pós-...  117.307726  0.0  502.7   \n",
       "Completou a Pós-graduação                           119.512693  0.0  519.5   \n",
       "Completou o Ensino Médio, mas não completou a F...  107.484050  0.0  454.7   \n",
       "Nunca estudou                                        80.443339  0.0  412.9   \n",
       "Não completou a 4ª série/5º ano do Ensino Funda...   89.595417  0.0  424.0   \n",
       "Não sei                                              95.641760  0.0  430.1   \n",
       "\n",
       "                                                                         \n",
       "                                                      50%    75%    max  \n",
       "NO_Q001                                                                  \n",
       "Completou a 4ª série/5º ano, mas não completou ...  491.4  574.7  953.1  \n",
       "Completou a 8ª série/9º ano do Ensino Fundament...  504.0  591.1  953.1  \n",
       "Completou a Faculdade, mas não completou a Pós-...  601.8  684.0  953.1  \n",
       "Completou a Pós-graduação                           622.3  700.7  953.1  \n",
       "Completou o Ensino Médio, mas não completou a F...  529.4  621.5  953.1  \n",
       "Nunca estudou                                       453.3  513.0  953.1  \n",
       "Não completou a 4ª série/5º ano do Ensino Funda...  472.6  545.4  930.6  \n",
       "Não sei                                             483.9  565.5  953.1  "
      ]
     },
     "execution_count": 50,
     "metadata": {},
     "output_type": "execute_result"
    }
   ],
   "source": [
    " microdadosEnemSelec.filter(items =['NU_NOTA_MT', 'NO_Q001']).groupby('NO_Q001').describe()"
   ]
  },
  {
   "cell_type": "markdown",
   "id": "7a1aae4e",
   "metadata": {},
   "source": [
    "# Verificando a distribuição do desempenho dos alunos dentro de cada grupo relacionado a escolaridade do pai"
   ]
  },
  {
   "cell_type": "code",
   "execution_count": 51,
   "id": "604b3e2f",
   "metadata": {},
   "outputs": [],
   "source": [
    "selecao_colunas = ['NU_NOTA_CN', 'NU_NOTA_CH', 'NU_NOTA_LC', 'NU_NOTA_MT', 'NU_NOTA_REDACAO', 'Q001', 'Q002', 'NO_Q001', 'NO_Q002']"
   ]
  },
  {
   "cell_type": "code",
   "execution_count": 52,
   "id": "00136508",
   "metadata": {},
   "outputs": [],
   "source": [
    "novomicrodados = microdadosEnem.filter(items = selecao_colunas)"
   ]
  },
  {
   "cell_type": "code",
   "execution_count": 53,
   "id": "93957453",
   "metadata": {},
   "outputs": [],
   "source": [
    "q001notas = novomicrodados.filter(items =['NU_NOTA_CN', 'NU_NOTA_CH', 'NU_NOTA_LC', 'NU_NOTA_MT', 'NU_NOTA_REDACAO', 'Q001']).groupby('Q001').mean()"
   ]
  },
  {
   "cell_type": "code",
   "execution_count": 54,
   "id": "91293793",
   "metadata": {},
   "outputs": [
    {
     "data": {
      "text/plain": [
       "{'A': 'Nunca estudou',\n",
       " 'B': 'Não completou a 4ª série/5º ano do Ensino Fundamental',\n",
       " 'C': 'Completou a 4ª série/5º ano, mas não completou a 8ª série/9º ano do Ensino Fundamental',\n",
       " 'D': 'Completou a 8ª série/9º ano do Ensino Fundamental, mas não completou o Ensino Médio',\n",
       " 'E': 'Completou o Ensino Médio, mas não completou a Faculdade',\n",
       " 'F': 'Completou a Faculdade, mas não completou a Pós-graduação',\n",
       " 'G': 'Completou a Pós-graduação',\n",
       " 'H': 'Não sei'}"
      ]
     },
     "execution_count": 54,
     "metadata": {},
     "output_type": "execute_result"
    }
   ],
   "source": [
    "diconario001e002"
   ]
  },
  {
   "cell_type": "code",
   "execution_count": 55,
   "id": "caff763c",
   "metadata": {},
   "outputs": [
    {
     "data": {
      "text/html": [
       "<div>\n",
       "<style scoped>\n",
       "    .dataframe tbody tr th:only-of-type {\n",
       "        vertical-align: middle;\n",
       "    }\n",
       "\n",
       "    .dataframe tbody tr th {\n",
       "        vertical-align: top;\n",
       "    }\n",
       "\n",
       "    .dataframe thead th {\n",
       "        text-align: right;\n",
       "    }\n",
       "</style>\n",
       "<table border=\"1\" class=\"dataframe\">\n",
       "  <thead>\n",
       "    <tr style=\"text-align: right;\">\n",
       "      <th></th>\n",
       "      <th>NU_NOTA_CN</th>\n",
       "      <th>NU_NOTA_CH</th>\n",
       "      <th>NU_NOTA_LC</th>\n",
       "      <th>NU_NOTA_MT</th>\n",
       "      <th>NU_NOTA_REDACAO</th>\n",
       "    </tr>\n",
       "    <tr>\n",
       "      <th>Q001</th>\n",
       "      <th></th>\n",
       "      <th></th>\n",
       "      <th></th>\n",
       "      <th></th>\n",
       "      <th></th>\n",
       "    </tr>\n",
       "  </thead>\n",
       "  <tbody>\n",
       "    <tr>\n",
       "      <th>A</th>\n",
       "      <td>455.024765</td>\n",
       "      <td>478.329591</td>\n",
       "      <td>454.101435</td>\n",
       "      <td>471.535114</td>\n",
       "      <td>524.369953</td>\n",
       "    </tr>\n",
       "    <tr>\n",
       "      <th>B</th>\n",
       "      <td>466.465178</td>\n",
       "      <td>492.610014</td>\n",
       "      <td>472.999984</td>\n",
       "      <td>492.323517</td>\n",
       "      <td>561.042584</td>\n",
       "    </tr>\n",
       "    <tr>\n",
       "      <th>C</th>\n",
       "      <td>475.450386</td>\n",
       "      <td>503.717690</td>\n",
       "      <td>487.243701</td>\n",
       "      <td>510.957795</td>\n",
       "      <td>586.215277</td>\n",
       "    </tr>\n",
       "    <tr>\n",
       "      <th>D</th>\n",
       "      <td>481.170135</td>\n",
       "      <td>509.783978</td>\n",
       "      <td>495.174775</td>\n",
       "      <td>521.893082</td>\n",
       "      <td>600.304595</td>\n",
       "    </tr>\n",
       "    <tr>\n",
       "      <th>E</th>\n",
       "      <td>495.625145</td>\n",
       "      <td>525.792850</td>\n",
       "      <td>510.303620</td>\n",
       "      <td>543.023586</td>\n",
       "      <td>628.461002</td>\n",
       "    </tr>\n",
       "    <tr>\n",
       "      <th>F</th>\n",
       "      <td>533.191863</td>\n",
       "      <td>563.330120</td>\n",
       "      <td>543.072960</td>\n",
       "      <td>597.410963</td>\n",
       "      <td>688.584418</td>\n",
       "    </tr>\n",
       "    <tr>\n",
       "      <th>G</th>\n",
       "      <td>543.614148</td>\n",
       "      <td>571.346873</td>\n",
       "      <td>550.095377</td>\n",
       "      <td>613.320230</td>\n",
       "      <td>708.026036</td>\n",
       "    </tr>\n",
       "    <tr>\n",
       "      <th>H</th>\n",
       "      <td>471.833737</td>\n",
       "      <td>499.181521</td>\n",
       "      <td>484.522649</td>\n",
       "      <td>504.585696</td>\n",
       "      <td>563.835124</td>\n",
       "    </tr>\n",
       "  </tbody>\n",
       "</table>\n",
       "</div>"
      ],
      "text/plain": [
       "      NU_NOTA_CN  NU_NOTA_CH  NU_NOTA_LC  NU_NOTA_MT  NU_NOTA_REDACAO\n",
       "Q001                                                                 \n",
       "A     455.024765  478.329591  454.101435  471.535114       524.369953\n",
       "B     466.465178  492.610014  472.999984  492.323517       561.042584\n",
       "C     475.450386  503.717690  487.243701  510.957795       586.215277\n",
       "D     481.170135  509.783978  495.174775  521.893082       600.304595\n",
       "E     495.625145  525.792850  510.303620  543.023586       628.461002\n",
       "F     533.191863  563.330120  543.072960  597.410963       688.584418\n",
       "G     543.614148  571.346873  550.095377  613.320230       708.026036\n",
       "H     471.833737  499.181521  484.522649  504.585696       563.835124"
      ]
     },
     "execution_count": 55,
     "metadata": {},
     "output_type": "execute_result"
    }
   ],
   "source": [
    "q001notas"
   ]
  },
  {
   "cell_type": "code",
   "execution_count": 56,
   "id": "1d446e29",
   "metadata": {},
   "outputs": [
    {
     "data": {
      "text/plain": [
       "<AxesSubplot:xlabel='Q001'>"
      ]
     },
     "execution_count": 56,
     "metadata": {},
     "output_type": "execute_result"
    },
    {
     "data": {
      "image/png": "[encoded data removed]",
      "text/plain": [
       "<Figure size 432x288 with 1 Axes>"
      ]
     },
     "metadata": {
      "needs_background": "light"
     },
     "output_type": "display_data"
    }
   ],
   "source": [
    "q001notas.plot()"
   ]
  },
  {
   "cell_type": "markdown",
   "id": "93e03591",
   "metadata": {},
   "source": [
    "## Podemos verificar que todas as avaliações tem nota máxima média no grupo G que é o grupo de alunos com pais que terminaram a pós-graduação."
   ]
  },
  {
   "cell_type": "markdown",
   "id": "c2bb7b46",
   "metadata": {},
   "source": [
    "---"
   ]
  },
  {
   "cell_type": "markdown",
   "id": "a0ab363e",
   "metadata": {},
   "source": [
    "### VAMOS VERIFICAR SE ESSA TENDÊNCIA VISTA ACIMA PERMANECE SEPARANDO OS DADOS POR ESTADOS."
   ]
  },
  {
   "cell_type": "code",
   "execution_count": 57,
   "id": "52e3e455",
   "metadata": {},
   "outputs": [
    {
     "data": {
      "text/plain": [
       "array(['NU_INSCRICAO', 'NU_ANO', 'TP_FAIXA_ETARIA', 'TP_SEXO',\n",
       "       'TP_ESTADO_CIVIL', 'TP_COR_RACA', 'TP_NACIONALIDADE',\n",
       "       'TP_ST_CONCLUSAO', 'TP_ANO_CONCLUIU', 'TP_ESCOLA', 'TP_ENSINO',\n",
       "       'IN_TREINEIRO', 'CO_MUNICIPIO_ESC', 'NO_MUNICIPIO_ESC',\n",
       "       'CO_UF_ESC', 'SG_UF_ESC', 'TP_DEPENDENCIA_ADM_ESC',\n",
       "       'TP_LOCALIZACAO_ESC', 'TP_SIT_FUNC_ESC', 'CO_MUNICIPIO_PROVA',\n",
       "       'NO_MUNICIPIO_PROVA', 'CO_UF_PROVA', 'SG_UF_PROVA',\n",
       "       'TP_PRESENCA_CN', 'TP_PRESENCA_CH', 'TP_PRESENCA_LC',\n",
       "       'TP_PRESENCA_MT', 'CO_PROVA_CN', 'CO_PROVA_CH', 'CO_PROVA_LC',\n",
       "       'CO_PROVA_MT', 'NU_NOTA_CN', 'NU_NOTA_CH', 'NU_NOTA_LC',\n",
       "       'NU_NOTA_MT', 'TX_RESPOSTAS_CN', 'TX_RESPOSTAS_CH',\n",
       "       'TX_RESPOSTAS_LC', 'TX_RESPOSTAS_MT', 'TP_LINGUA',\n",
       "       'TX_GABARITO_CN', 'TX_GABARITO_CH', 'TX_GABARITO_LC',\n",
       "       'TX_GABARITO_MT', 'TP_STATUS_REDACAO', 'NU_NOTA_COMP1',\n",
       "       'NU_NOTA_COMP2', 'NU_NOTA_COMP3', 'NU_NOTA_COMP4', 'NU_NOTA_COMP5',\n",
       "       'NU_NOTA_REDACAO', 'Q001', 'Q002', 'Q003', 'Q004', 'Q005', 'Q006',\n",
       "       'Q007', 'Q008', 'Q009', 'Q010', 'Q011', 'Q012', 'Q013', 'Q014',\n",
       "       'Q015', 'Q016', 'Q017', 'Q018', 'Q019', 'Q020', 'Q021', 'Q022',\n",
       "       'Q023', 'Q024', 'Q025'], dtype=object)"
      ]
     },
     "execution_count": 57,
     "metadata": {},
     "output_type": "execute_result"
    }
   ],
   "source": [
    "microdadosEnem.columns.values"
   ]
  },
  {
   "cell_type": "code",
   "execution_count": 58,
   "id": "a838a98a",
   "metadata": {},
   "outputs": [
    {
     "data": {
      "text/plain": [
       "array([nan, 'CE', 'BA', 'ES', 'SP', 'PE', 'PA', 'RS', 'RJ', 'GO', 'DF',\n",
       "       'MG', 'RN', 'MA', 'PI', 'AM', 'PR', 'AL', 'MT', 'SC', 'PB', 'RO',\n",
       "       'SE', 'MS', 'TO', 'RR', 'AP', 'AC'], dtype=object)"
      ]
     },
     "execution_count": 58,
     "metadata": {},
     "output_type": "execute_result"
    }
   ],
   "source": [
    "microdadosEnem.SG_UF_ESC.unique()"
   ]
  },
  {
   "cell_type": "code",
   "execution_count": 59,
   "id": "f7ac8ea9",
   "metadata": {},
   "outputs": [],
   "source": [
    "microdadosEnemSelec['SG_UF_ESC'] = microdadosEnem.SG_UF_ESC"
   ]
  },
  {
   "cell_type": "code",
   "execution_count": 60,
   "id": "3270d7b6",
   "metadata": {},
   "outputs": [
    {
     "data": {
      "text/html": [
       "<div>\n",
       "<style scoped>\n",
       "    .dataframe tbody tr th:only-of-type {\n",
       "        vertical-align: middle;\n",
       "    }\n",
       "\n",
       "    .dataframe tbody tr th {\n",
       "        vertical-align: top;\n",
       "    }\n",
       "\n",
       "    .dataframe thead th {\n",
       "        text-align: right;\n",
       "    }\n",
       "</style>\n",
       "<table border=\"1\" class=\"dataframe\">\n",
       "  <thead>\n",
       "    <tr style=\"text-align: right;\">\n",
       "      <th></th>\n",
       "      <th>NU_INSCRICAO</th>\n",
       "      <th>NU_NOTA_MT</th>\n",
       "      <th>NU_NOTA_REDACAO</th>\n",
       "      <th>Q001</th>\n",
       "      <th>Q002</th>\n",
       "      <th>NO_Q001</th>\n",
       "      <th>NO_Q002</th>\n",
       "      <th>SG_UF_ESC</th>\n",
       "    </tr>\n",
       "  </thead>\n",
       "  <tbody>\n",
       "    <tr>\n",
       "      <th>1</th>\n",
       "      <td>210052384164</td>\n",
       "      <td>461.5</td>\n",
       "      <td>560.0</td>\n",
       "      <td>B</td>\n",
       "      <td>B</td>\n",
       "      <td>Não completou a 4ª série/5º ano do Ensino Fund...</td>\n",
       "      <td>Não completou a 4ª série/5º ano do Ensino Fund...</td>\n",
       "      <td>NaN</td>\n",
       "    </tr>\n",
       "    <tr>\n",
       "      <th>3</th>\n",
       "      <td>210052128335</td>\n",
       "      <td>659.5</td>\n",
       "      <td>780.0</td>\n",
       "      <td>B</td>\n",
       "      <td>B</td>\n",
       "      <td>Não completou a 4ª série/5º ano do Ensino Fund...</td>\n",
       "      <td>Não completou a 4ª série/5º ano do Ensino Fund...</td>\n",
       "      <td>CE</td>\n",
       "    </tr>\n",
       "    <tr>\n",
       "      <th>4</th>\n",
       "      <td>210051353021</td>\n",
       "      <td>582.6</td>\n",
       "      <td>780.0</td>\n",
       "      <td>D</td>\n",
       "      <td>E</td>\n",
       "      <td>Completou a 8ª série/9º ano do Ensino Fundamen...</td>\n",
       "      <td>Completou o Ensino Médio, mas não completou a ...</td>\n",
       "      <td>CE</td>\n",
       "    </tr>\n",
       "    <tr>\n",
       "      <th>8</th>\n",
       "      <td>210053417016</td>\n",
       "      <td>493.4</td>\n",
       "      <td>520.0</td>\n",
       "      <td>B</td>\n",
       "      <td>B</td>\n",
       "      <td>Não completou a 4ª série/5º ano do Ensino Fund...</td>\n",
       "      <td>Não completou a 4ª série/5º ano do Ensino Fund...</td>\n",
       "      <td>NaN</td>\n",
       "    </tr>\n",
       "    <tr>\n",
       "      <th>9</th>\n",
       "      <td>210051128744</td>\n",
       "      <td>413.3</td>\n",
       "      <td>380.0</td>\n",
       "      <td>D</td>\n",
       "      <td>D</td>\n",
       "      <td>Completou a 8ª série/9º ano do Ensino Fundamen...</td>\n",
       "      <td>Completou a 8ª série/9º ano do Ensino Fundamen...</td>\n",
       "      <td>NaN</td>\n",
       "    </tr>\n",
       "  </tbody>\n",
       "</table>\n",
       "</div>"
      ],
      "text/plain": [
       "   NU_INSCRICAO  NU_NOTA_MT  NU_NOTA_REDACAO Q001 Q002  \\\n",
       "1  210052384164       461.5            560.0    B    B   \n",
       "3  210052128335       659.5            780.0    B    B   \n",
       "4  210051353021       582.6            780.0    D    E   \n",
       "8  210053417016       493.4            520.0    B    B   \n",
       "9  210051128744       413.3            380.0    D    D   \n",
       "\n",
       "                                             NO_Q001  \\\n",
       "1  Não completou a 4ª série/5º ano do Ensino Fund...   \n",
       "3  Não completou a 4ª série/5º ano do Ensino Fund...   \n",
       "4  Completou a 8ª série/9º ano do Ensino Fundamen...   \n",
       "8  Não completou a 4ª série/5º ano do Ensino Fund...   \n",
       "9  Completou a 8ª série/9º ano do Ensino Fundamen...   \n",
       "\n",
       "                                             NO_Q002 SG_UF_ESC  \n",
       "1  Não completou a 4ª série/5º ano do Ensino Fund...       NaN  \n",
       "3  Não completou a 4ª série/5º ano do Ensino Fund...        CE  \n",
       "4  Completou o Ensino Médio, mas não completou a ...        CE  \n",
       "8  Não completou a 4ª série/5º ano do Ensino Fund...       NaN  \n",
       "9  Completou a 8ª série/9º ano do Ensino Fundamen...       NaN  "
      ]
     },
     "execution_count": 60,
     "metadata": {},
     "output_type": "execute_result"
    }
   ],
   "source": [
    "microdadosEnemSelec.head()"
   ]
  },
  {
   "cell_type": "code",
   "execution_count": 61,
   "id": "cf977693",
   "metadata": {},
   "outputs": [
    {
     "data": {
      "text/html": [
       "<div>\n",
       "<style scoped>\n",
       "    .dataframe tbody tr th:only-of-type {\n",
       "        vertical-align: middle;\n",
       "    }\n",
       "\n",
       "    .dataframe tbody tr th {\n",
       "        vertical-align: top;\n",
       "    }\n",
       "\n",
       "    .dataframe thead th {\n",
       "        text-align: right;\n",
       "    }\n",
       "</style>\n",
       "<table border=\"1\" class=\"dataframe\">\n",
       "  <thead>\n",
       "    <tr style=\"text-align: right;\">\n",
       "      <th></th>\n",
       "      <th>NU_NOTA_REDACAO</th>\n",
       "    </tr>\n",
       "    <tr>\n",
       "      <th>NO_Q002</th>\n",
       "      <th></th>\n",
       "    </tr>\n",
       "  </thead>\n",
       "  <tbody>\n",
       "    <tr>\n",
       "      <th>Completou a Pós-graduação</th>\n",
       "      <td>742.573022</td>\n",
       "    </tr>\n",
       "    <tr>\n",
       "      <th>Completou a Faculdade, mas não completou a Pós-graduação</th>\n",
       "      <td>718.871640</td>\n",
       "    </tr>\n",
       "    <tr>\n",
       "      <th>Completou o Ensino Médio, mas não completou a Faculdade</th>\n",
       "      <td>640.465859</td>\n",
       "    </tr>\n",
       "    <tr>\n",
       "      <th>Completou a 8ª série/9º ano do Ensino Fundamental, mas não completou o Ensino Médio</th>\n",
       "      <td>608.921569</td>\n",
       "    </tr>\n",
       "    <tr>\n",
       "      <th>Completou a 4ª série/5º ano, mas não completou a 8ª série/9º ano do Ensino Fundamental</th>\n",
       "      <td>600.164580</td>\n",
       "    </tr>\n",
       "    <tr>\n",
       "      <th>Não sei</th>\n",
       "      <td>589.654350</td>\n",
       "    </tr>\n",
       "    <tr>\n",
       "      <th>Não completou a 4ª série/5º ano do Ensino Fundamental</th>\n",
       "      <td>577.700880</td>\n",
       "    </tr>\n",
       "    <tr>\n",
       "      <th>Nunca estudou</th>\n",
       "      <td>533.714286</td>\n",
       "    </tr>\n",
       "  </tbody>\n",
       "</table>\n",
       "</div>"
      ],
      "text/plain": [
       "                                                    NU_NOTA_REDACAO\n",
       "NO_Q002                                                            \n",
       "Completou a Pós-graduação                                742.573022\n",
       "Completou a Faculdade, mas não completou a Pós-...       718.871640\n",
       "Completou o Ensino Médio, mas não completou a F...       640.465859\n",
       "Completou a 8ª série/9º ano do Ensino Fundament...       608.921569\n",
       "Completou a 4ª série/5º ano, mas não completou ...       600.164580\n",
       "Não sei                                                  589.654350\n",
       "Não completou a 4ª série/5º ano do Ensino Funda...       577.700880\n",
       "Nunca estudou                                            533.714286"
      ]
     },
     "execution_count": 61,
     "metadata": {},
     "output_type": "execute_result"
    }
   ],
   "source": [
    "microdadosEnemSelec.filter(items = ['NU_NOTA_REDACAO', 'NO_Q002']).where(microdadosEnemSelec.SG_UF_ESC == 'RJ')\\\n",
    ".groupby('NO_Q002').mean().sort_values(by = 'NU_NOTA_REDACAO', ascending = False)\n",
    "\n",
    "# Olhando pelo RJ vemos que a tendência se repete em relação a escolaridade dos pais."
   ]
  },
  {
   "cell_type": "code",
   "execution_count": 62,
   "id": "a305b988",
   "metadata": {},
   "outputs": [],
   "source": [
    "# Vamos verificar o mesmo para todos os Estados\n",
    "notas_por_estado = microdadosEnemSelec.filter(items = ['SG_UF_ESC','NU_NOTA_REDACAO', 'NO_Q002'])\\\n",
    ".groupby(['SG_UF_ESC', 'NO_Q002']).mean().sort_values(by = 'NU_NOTA_REDACAO', ascending = False)"
   ]
  },
  {
   "cell_type": "code",
   "execution_count": 63,
   "id": "3a8baba9",
   "metadata": {},
   "outputs": [
    {
     "data": {
      "text/html": [
       "<div>\n",
       "<style scoped>\n",
       "    .dataframe tbody tr th:only-of-type {\n",
       "        vertical-align: middle;\n",
       "    }\n",
       "\n",
       "    .dataframe tbody tr th {\n",
       "        vertical-align: top;\n",
       "    }\n",
       "\n",
       "    .dataframe thead th {\n",
       "        text-align: right;\n",
       "    }\n",
       "</style>\n",
       "<table border=\"1\" class=\"dataframe\">\n",
       "  <thead>\n",
       "    <tr style=\"text-align: right;\">\n",
       "      <th></th>\n",
       "      <th></th>\n",
       "      <th>NU_NOTA_REDACAO</th>\n",
       "    </tr>\n",
       "    <tr>\n",
       "      <th>SG_UF_ESC</th>\n",
       "      <th>NO_Q002</th>\n",
       "      <th></th>\n",
       "    </tr>\n",
       "  </thead>\n",
       "  <tbody>\n",
       "    <tr>\n",
       "      <th>SE</th>\n",
       "      <th>Completou a Pós-graduação</th>\n",
       "      <td>762.810811</td>\n",
       "    </tr>\n",
       "    <tr>\n",
       "      <th>PI</th>\n",
       "      <th>Completou a Pós-graduação</th>\n",
       "      <td>751.054904</td>\n",
       "    </tr>\n",
       "    <tr>\n",
       "      <th>RN</th>\n",
       "      <th>Completou a Pós-graduação</th>\n",
       "      <td>746.384568</td>\n",
       "    </tr>\n",
       "    <tr>\n",
       "      <th>PB</th>\n",
       "      <th>Completou a Pós-graduação</th>\n",
       "      <td>745.218914</td>\n",
       "    </tr>\n",
       "    <tr>\n",
       "      <th>RJ</th>\n",
       "      <th>Completou a Pós-graduação</th>\n",
       "      <td>742.573022</td>\n",
       "    </tr>\n",
       "    <tr>\n",
       "      <th>...</th>\n",
       "      <th>...</th>\n",
       "      <td>...</td>\n",
       "    </tr>\n",
       "    <tr>\n",
       "      <th>AM</th>\n",
       "      <th>Não sei</th>\n",
       "      <td>441.232666</td>\n",
       "    </tr>\n",
       "    <tr>\n",
       "      <th>RO</th>\n",
       "      <th>Nunca estudou</th>\n",
       "      <td>437.543860</td>\n",
       "    </tr>\n",
       "    <tr>\n",
       "      <th>CE</th>\n",
       "      <th>Nunca estudou</th>\n",
       "      <td>437.477897</td>\n",
       "    </tr>\n",
       "    <tr>\n",
       "      <th rowspan=\"2\" valign=\"top\">AM</th>\n",
       "      <th>Não completou a 4ª série/5º ano do Ensino Fundamental</th>\n",
       "      <td>431.748727</td>\n",
       "    </tr>\n",
       "    <tr>\n",
       "      <th>Nunca estudou</th>\n",
       "      <td>385.647668</td>\n",
       "    </tr>\n",
       "  </tbody>\n",
       "</table>\n",
       "<p>216 rows × 1 columns</p>\n",
       "</div>"
      ],
      "text/plain": [
       "                                                              NU_NOTA_REDACAO\n",
       "SG_UF_ESC NO_Q002                                                            \n",
       "SE        Completou a Pós-graduação                                762.810811\n",
       "PI        Completou a Pós-graduação                                751.054904\n",
       "RN        Completou a Pós-graduação                                746.384568\n",
       "PB        Completou a Pós-graduação                                745.218914\n",
       "RJ        Completou a Pós-graduação                                742.573022\n",
       "...                                                                       ...\n",
       "AM        Não sei                                                  441.232666\n",
       "RO        Nunca estudou                                            437.543860\n",
       "CE        Nunca estudou                                            437.477897\n",
       "AM        Não completou a 4ª série/5º ano do Ensino Funda...       431.748727\n",
       "          Nunca estudou                                            385.647668\n",
       "\n",
       "[216 rows x 1 columns]"
      ]
     },
     "execution_count": 63,
     "metadata": {},
     "output_type": "execute_result"
    }
   ],
   "source": [
    "notas_por_estado"
   ]
  },
  {
   "cell_type": "code",
   "execution_count": 64,
   "id": "c74d417f",
   "metadata": {},
   "outputs": [
    {
     "data": {
      "text/plain": [
       "<AxesSubplot:title={'center':'Nível de escolaridade dos pais X Notas de redação dos incritos por Estado'}, xlabel='UF de residência dos inscritos', ylabel='Notas de redação'>"
      ]
     },
     "execution_count": 64,
     "metadata": {},
     "output_type": "execute_result"
    },
    {
     "data": {
      "image/png": "[encoded data removed]",
      "text/plain": [
       "<Figure size 1440x720 with 1 Axes>"
      ]
     },
     "metadata": {
      "needs_background": "light"
     },
     "output_type": "display_data"
    }
   ],
   "source": [
    "ax = sns.lineplot(x = 'SG_UF_ESC', y = 'NU_NOTA_REDACAO', hue = 'NO_Q002', data = notas_por_estado)\n",
    "ax.figure.set_size_inches(20, 10)\n",
    "ax.set_title('Nível de escolaridade dos pais X Notas de redação dos incritos por Estado', fontsize=18)\n",
    "ax.set_ylabel('Notas de redação', fontsize=14)\n",
    "ax.set_xlabel('UF de residência dos inscritos', fontsize=14)\n",
    "ax\n",
    "\n",
    "# Podemos observar que a tendência de notas mais elevadas por nível de escolaridade dos pais\n",
    "# permanece para todos os Estados."
   ]
  },
  {
   "cell_type": "code",
   "execution_count": null,
   "id": "43e5d457",
   "metadata": {},
   "outputs": [],
   "source": []
  }
 ],
 "metadata": {
  "kernelspec": {
   "display_name": "Python 3 (ipykernel)",
   "language": "python",
   "name": "python3"
  },
  "language_info": {
   "codemirror_mode": {
    "name": "ipython",
    "version": 3
   },
   "file_extension": ".py",
   "mimetype": "text/x-python",
   "name": "python",
   "nbconvert_exporter": "python",
   "pygments_lexer": "ipython3",
   "version": "3.9.12"
  }
 },
 "nbformat": 4,
 "nbformat_minor": 5
}
